{
 "cells": [
  {
   "cell_type": "markdown",
   "id": "426b9ae6",
   "metadata": {},
   "source": [
    "# The Objective"
   ]
  },
  {
   "cell_type": "markdown",
   "id": "6e6d3018",
   "metadata": {},
   "source": [
    "### The objective of this project is to analyze the data to empower the company to make data driven data decisions to improve efficiency, reduce costs, and enhance customer experience."
   ]
  },
  {
   "cell_type": "code",
   "execution_count": null,
   "id": "0a43ffd5",
   "metadata": {},
   "outputs": [],
   "source": []
  },
  {
   "cell_type": "markdown",
   "id": "21f70b5b",
   "metadata": {},
   "source": [
    "# About the Dataset"
   ]
  },
  {
   "cell_type": "markdown",
   "id": "95611256",
   "metadata": {},
   "source": [
    "### This supply chain analysis provides a comprehensive view of the company's order and distribution processes allowing for in-depth analysis, and optimization of various aspects of the supply chain, from procurement and customer satisficaction."
   ]
  },
  {
   "cell_type": "code",
   "execution_count": null,
   "id": "8ff7bccd",
   "metadata": {},
   "outputs": [],
   "source": []
  },
  {
   "cell_type": "markdown",
   "id": "04b7c55f",
   "metadata": {},
   "source": [
    "# The Features"
   ]
  },
  {
   "cell_type": "markdown",
   "id": "8e58b80e",
   "metadata": {},
   "source": [
    "### OrderNumber------------> Unique identifier for each order.\n",
    "\n",
    "### Sales Channel-----------> The channel through which the sale was made.\n",
    "\n",
    "### WarehouseCode--------> The code or identifier for the warehouse or distribution center responsible for fullfilling the order.\n",
    "\n",
    "### ProcuredDate-----------> The date on which the products for the order were acquired by the company.\n",
    "\n",
    "### OrderDate----------------> The date when the customer placed the order.\n",
    "\n",
    "### DeliveryDate-------------> The date when the order was delivered to the customer.\n",
    "\n",
    "### CurrencyCode----------> The currency used during transaction.\n",
    "\n",
    "### SalesTeamID------------> Identifier for the sales team.\n",
    "\n",
    "### CustomerID------------> Unique identifier for each customer."
   ]
  },
  {
   "cell_type": "code",
   "execution_count": null,
   "id": "0e30e236",
   "metadata": {},
   "outputs": [],
   "source": []
  },
  {
   "cell_type": "markdown",
   "id": "06181662",
   "metadata": {},
   "source": [
    "# Importing the Libraries"
   ]
  },
  {
   "cell_type": "code",
   "execution_count": 1,
   "id": "778b85fc",
   "metadata": {},
   "outputs": [],
   "source": [
    "# let's import the necessary libraries\n",
    "\n",
    "import numpy as np\n",
    "import pandas as pd\n",
    "import matplotlib.pyplot as plt\n",
    "import seaborn as sns\n",
    "plt.style.use('tableau-colorblind10')"
   ]
  },
  {
   "cell_type": "code",
   "execution_count": null,
   "id": "3e8dde01",
   "metadata": {},
   "outputs": [],
   "source": []
  },
  {
   "cell_type": "markdown",
   "id": "05b3ea2c",
   "metadata": {},
   "source": [
    "# Importing the Dataset"
   ]
  },
  {
   "cell_type": "code",
   "execution_count": 2,
   "id": "a9901af9",
   "metadata": {},
   "outputs": [],
   "source": [
    "# let's the import the dataset\n",
    "\n",
    "Supply_chain_data = pd.read_csv('C:\\\\Users\\\\LENOVO USER\\\\Downloads\\\\US_Regional_Sales_Data.csv')"
   ]
  },
  {
   "cell_type": "code",
   "execution_count": null,
   "id": "91c3fd05",
   "metadata": {},
   "outputs": [],
   "source": []
  },
  {
   "cell_type": "markdown",
   "id": "b452d565",
   "metadata": {},
   "source": [
    "# Check Top Five Rows of the Dataset"
   ]
  },
  {
   "cell_type": "code",
   "execution_count": 3,
   "id": "507d8726",
   "metadata": {},
   "outputs": [
    {
     "data": {
      "text/html": [
       "<div>\n",
       "<style scoped>\n",
       "    .dataframe tbody tr th:only-of-type {\n",
       "        vertical-align: middle;\n",
       "    }\n",
       "\n",
       "    .dataframe tbody tr th {\n",
       "        vertical-align: top;\n",
       "    }\n",
       "\n",
       "    .dataframe thead th {\n",
       "        text-align: right;\n",
       "    }\n",
       "</style>\n",
       "<table border=\"1\" class=\"dataframe\">\n",
       "  <thead>\n",
       "    <tr style=\"text-align: right;\">\n",
       "      <th></th>\n",
       "      <th>OrderNumber</th>\n",
       "      <th>Sales Channel</th>\n",
       "      <th>WarehouseCode</th>\n",
       "      <th>ProcuredDate</th>\n",
       "      <th>OrderDate</th>\n",
       "      <th>ShipDate</th>\n",
       "      <th>DeliveryDate</th>\n",
       "      <th>CurrencyCode</th>\n",
       "      <th>_SalesTeamID</th>\n",
       "      <th>_CustomerID</th>\n",
       "      <th>_StoreID</th>\n",
       "      <th>_ProductID</th>\n",
       "      <th>Order Quantity</th>\n",
       "      <th>Discount Applied</th>\n",
       "      <th>Unit Cost</th>\n",
       "      <th>Unit Price</th>\n",
       "    </tr>\n",
       "  </thead>\n",
       "  <tbody>\n",
       "    <tr>\n",
       "      <th>0</th>\n",
       "      <td>SO - 000101</td>\n",
       "      <td>In-Store</td>\n",
       "      <td>WARE-UHY1004</td>\n",
       "      <td>31/12/17</td>\n",
       "      <td>31/5/18</td>\n",
       "      <td>14/6/18</td>\n",
       "      <td>19/6/18</td>\n",
       "      <td>USD</td>\n",
       "      <td>6</td>\n",
       "      <td>15</td>\n",
       "      <td>259</td>\n",
       "      <td>12</td>\n",
       "      <td>5</td>\n",
       "      <td>0.08</td>\n",
       "      <td>$1,001.18</td>\n",
       "      <td>$1,963.10</td>\n",
       "    </tr>\n",
       "    <tr>\n",
       "      <th>1</th>\n",
       "      <td>SO - 000102</td>\n",
       "      <td>Online</td>\n",
       "      <td>WARE-NMK1003</td>\n",
       "      <td>31/12/17</td>\n",
       "      <td>31/5/18</td>\n",
       "      <td>22/6/18</td>\n",
       "      <td>2/7/2018</td>\n",
       "      <td>USD</td>\n",
       "      <td>14</td>\n",
       "      <td>20</td>\n",
       "      <td>196</td>\n",
       "      <td>27</td>\n",
       "      <td>3</td>\n",
       "      <td>0.08</td>\n",
       "      <td>$3,348.66</td>\n",
       "      <td>$3,939.60</td>\n",
       "    </tr>\n",
       "    <tr>\n",
       "      <th>2</th>\n",
       "      <td>SO - 000103</td>\n",
       "      <td>Distributor</td>\n",
       "      <td>WARE-UHY1004</td>\n",
       "      <td>31/12/17</td>\n",
       "      <td>31/5/18</td>\n",
       "      <td>21/6/18</td>\n",
       "      <td>1/7/2018</td>\n",
       "      <td>USD</td>\n",
       "      <td>21</td>\n",
       "      <td>16</td>\n",
       "      <td>213</td>\n",
       "      <td>16</td>\n",
       "      <td>1</td>\n",
       "      <td>0.05</td>\n",
       "      <td>$781.22</td>\n",
       "      <td>$1,775.50</td>\n",
       "    </tr>\n",
       "    <tr>\n",
       "      <th>3</th>\n",
       "      <td>SO - 000104</td>\n",
       "      <td>Wholesale</td>\n",
       "      <td>WARE-NMK1003</td>\n",
       "      <td>31/12/17</td>\n",
       "      <td>31/5/18</td>\n",
       "      <td>2/6/2018</td>\n",
       "      <td>7/6/2018</td>\n",
       "      <td>USD</td>\n",
       "      <td>28</td>\n",
       "      <td>48</td>\n",
       "      <td>107</td>\n",
       "      <td>23</td>\n",
       "      <td>8</td>\n",
       "      <td>0.08</td>\n",
       "      <td>$1,464.69</td>\n",
       "      <td>$2,324.90</td>\n",
       "    </tr>\n",
       "    <tr>\n",
       "      <th>4</th>\n",
       "      <td>SO - 000105</td>\n",
       "      <td>Distributor</td>\n",
       "      <td>WARE-NMK1003</td>\n",
       "      <td>10/4/2018</td>\n",
       "      <td>31/5/18</td>\n",
       "      <td>16/6/18</td>\n",
       "      <td>26/6/18</td>\n",
       "      <td>USD</td>\n",
       "      <td>22</td>\n",
       "      <td>49</td>\n",
       "      <td>111</td>\n",
       "      <td>26</td>\n",
       "      <td>8</td>\n",
       "      <td>0.10</td>\n",
       "      <td>$1,476.14</td>\n",
       "      <td>$1,822.40</td>\n",
       "    </tr>\n",
       "  </tbody>\n",
       "</table>\n",
       "</div>"
      ],
      "text/plain": [
       "   OrderNumber Sales Channel WarehouseCode ProcuredDate OrderDate  ShipDate  \\\n",
       "0  SO - 000101      In-Store  WARE-UHY1004     31/12/17   31/5/18   14/6/18   \n",
       "1  SO - 000102        Online  WARE-NMK1003     31/12/17   31/5/18   22/6/18   \n",
       "2  SO - 000103   Distributor  WARE-UHY1004     31/12/17   31/5/18   21/6/18   \n",
       "3  SO - 000104     Wholesale  WARE-NMK1003     31/12/17   31/5/18  2/6/2018   \n",
       "4  SO - 000105   Distributor  WARE-NMK1003    10/4/2018   31/5/18   16/6/18   \n",
       "\n",
       "  DeliveryDate CurrencyCode  _SalesTeamID  _CustomerID  _StoreID  _ProductID  \\\n",
       "0      19/6/18          USD             6           15       259          12   \n",
       "1     2/7/2018          USD            14           20       196          27   \n",
       "2     1/7/2018          USD            21           16       213          16   \n",
       "3     7/6/2018          USD            28           48       107          23   \n",
       "4      26/6/18          USD            22           49       111          26   \n",
       "\n",
       "   Order Quantity  Discount Applied  Unit Cost Unit Price  \n",
       "0               5              0.08  $1,001.18  $1,963.10  \n",
       "1               3              0.08  $3,348.66  $3,939.60  \n",
       "2               1              0.05    $781.22  $1,775.50  \n",
       "3               8              0.08  $1,464.69  $2,324.90  \n",
       "4               8              0.10  $1,476.14  $1,822.40  "
      ]
     },
     "execution_count": 3,
     "metadata": {},
     "output_type": "execute_result"
    }
   ],
   "source": [
    "# Let's check the first five rows of our data\n",
    "\n",
    "pd.set_option(\"Display.max_columns\", None)\n",
    "\n",
    "Supply_chain_data.head()"
   ]
  },
  {
   "cell_type": "code",
   "execution_count": null,
   "id": "03cd61a2",
   "metadata": {},
   "outputs": [],
   "source": []
  },
  {
   "cell_type": "markdown",
   "id": "a5ab475e",
   "metadata": {},
   "source": [
    "# Check Last Five Rows of the Dataset"
   ]
  },
  {
   "cell_type": "code",
   "execution_count": 4,
   "id": "1510735f",
   "metadata": {},
   "outputs": [
    {
     "data": {
      "text/html": [
       "<div>\n",
       "<style scoped>\n",
       "    .dataframe tbody tr th:only-of-type {\n",
       "        vertical-align: middle;\n",
       "    }\n",
       "\n",
       "    .dataframe tbody tr th {\n",
       "        vertical-align: top;\n",
       "    }\n",
       "\n",
       "    .dataframe thead th {\n",
       "        text-align: right;\n",
       "    }\n",
       "</style>\n",
       "<table border=\"1\" class=\"dataframe\">\n",
       "  <thead>\n",
       "    <tr style=\"text-align: right;\">\n",
       "      <th></th>\n",
       "      <th>OrderNumber</th>\n",
       "      <th>Sales Channel</th>\n",
       "      <th>WarehouseCode</th>\n",
       "      <th>ProcuredDate</th>\n",
       "      <th>OrderDate</th>\n",
       "      <th>ShipDate</th>\n",
       "      <th>DeliveryDate</th>\n",
       "      <th>CurrencyCode</th>\n",
       "      <th>_SalesTeamID</th>\n",
       "      <th>_CustomerID</th>\n",
       "      <th>_StoreID</th>\n",
       "      <th>_ProductID</th>\n",
       "      <th>Order Quantity</th>\n",
       "      <th>Discount Applied</th>\n",
       "      <th>Unit Cost</th>\n",
       "      <th>Unit Price</th>\n",
       "    </tr>\n",
       "  </thead>\n",
       "  <tbody>\n",
       "    <tr>\n",
       "      <th>7986</th>\n",
       "      <td>SO - 0008087</td>\n",
       "      <td>In-Store</td>\n",
       "      <td>WARE-MKL1006</td>\n",
       "      <td>26/9/20</td>\n",
       "      <td>30/12/20</td>\n",
       "      <td>7/1/2021</td>\n",
       "      <td>14/1/21</td>\n",
       "      <td>USD</td>\n",
       "      <td>9</td>\n",
       "      <td>41</td>\n",
       "      <td>339</td>\n",
       "      <td>29</td>\n",
       "      <td>1</td>\n",
       "      <td>0.08</td>\n",
       "      <td>$121.94</td>\n",
       "      <td>$234.50</td>\n",
       "    </tr>\n",
       "    <tr>\n",
       "      <th>7987</th>\n",
       "      <td>SO - 0008088</td>\n",
       "      <td>Online</td>\n",
       "      <td>WARE-NMK1003</td>\n",
       "      <td>26/9/20</td>\n",
       "      <td>30/12/20</td>\n",
       "      <td>2/1/2021</td>\n",
       "      <td>4/1/2021</td>\n",
       "      <td>USD</td>\n",
       "      <td>14</td>\n",
       "      <td>29</td>\n",
       "      <td>202</td>\n",
       "      <td>3</td>\n",
       "      <td>6</td>\n",
       "      <td>0.05</td>\n",
       "      <td>$1,921.56</td>\n",
       "      <td>$3,202.60</td>\n",
       "    </tr>\n",
       "    <tr>\n",
       "      <th>7988</th>\n",
       "      <td>SO - 0008089</td>\n",
       "      <td>Online</td>\n",
       "      <td>WARE-UHY1004</td>\n",
       "      <td>26/9/20</td>\n",
       "      <td>30/12/20</td>\n",
       "      <td>23/1/21</td>\n",
       "      <td>26/1/21</td>\n",
       "      <td>USD</td>\n",
       "      <td>14</td>\n",
       "      <td>32</td>\n",
       "      <td>241</td>\n",
       "      <td>35</td>\n",
       "      <td>5</td>\n",
       "      <td>0.20</td>\n",
       "      <td>$2,792.76</td>\n",
       "      <td>$3,825.70</td>\n",
       "    </tr>\n",
       "    <tr>\n",
       "      <th>7989</th>\n",
       "      <td>SO - 0008090</td>\n",
       "      <td>Online</td>\n",
       "      <td>WARE-NMK1003</td>\n",
       "      <td>26/9/20</td>\n",
       "      <td>30/12/20</td>\n",
       "      <td>20/1/21</td>\n",
       "      <td>25/1/21</td>\n",
       "      <td>USD</td>\n",
       "      <td>20</td>\n",
       "      <td>42</td>\n",
       "      <td>112</td>\n",
       "      <td>36</td>\n",
       "      <td>8</td>\n",
       "      <td>0.10</td>\n",
       "      <td>$804.00</td>\n",
       "      <td>$1,072.00</td>\n",
       "    </tr>\n",
       "    <tr>\n",
       "      <th>7990</th>\n",
       "      <td>SO - 0008091</td>\n",
       "      <td>In-Store</td>\n",
       "      <td>WARE-UHY1004</td>\n",
       "      <td>26/9/20</td>\n",
       "      <td>30/12/20</td>\n",
       "      <td>13/1/21</td>\n",
       "      <td>19/1/21</td>\n",
       "      <td>USD</td>\n",
       "      <td>6</td>\n",
       "      <td>41</td>\n",
       "      <td>237</td>\n",
       "      <td>43</td>\n",
       "      <td>5</td>\n",
       "      <td>0.08</td>\n",
       "      <td>$1,370.82</td>\n",
       "      <td>$2,211.00</td>\n",
       "    </tr>\n",
       "  </tbody>\n",
       "</table>\n",
       "</div>"
      ],
      "text/plain": [
       "       OrderNumber Sales Channel WarehouseCode ProcuredDate OrderDate  \\\n",
       "7986  SO - 0008087      In-Store  WARE-MKL1006      26/9/20  30/12/20   \n",
       "7987  SO - 0008088        Online  WARE-NMK1003      26/9/20  30/12/20   \n",
       "7988  SO - 0008089        Online  WARE-UHY1004      26/9/20  30/12/20   \n",
       "7989  SO - 0008090        Online  WARE-NMK1003      26/9/20  30/12/20   \n",
       "7990  SO - 0008091      In-Store  WARE-UHY1004      26/9/20  30/12/20   \n",
       "\n",
       "      ShipDate DeliveryDate CurrencyCode  _SalesTeamID  _CustomerID  _StoreID  \\\n",
       "7986  7/1/2021      14/1/21          USD             9           41       339   \n",
       "7987  2/1/2021     4/1/2021          USD            14           29       202   \n",
       "7988   23/1/21      26/1/21          USD            14           32       241   \n",
       "7989   20/1/21      25/1/21          USD            20           42       112   \n",
       "7990   13/1/21      19/1/21          USD             6           41       237   \n",
       "\n",
       "      _ProductID  Order Quantity  Discount Applied  Unit Cost Unit Price  \n",
       "7986          29               1              0.08    $121.94    $234.50  \n",
       "7987           3               6              0.05  $1,921.56  $3,202.60  \n",
       "7988          35               5              0.20  $2,792.76  $3,825.70  \n",
       "7989          36               8              0.10    $804.00  $1,072.00  \n",
       "7990          43               5              0.08  $1,370.82  $2,211.00  "
      ]
     },
     "execution_count": 4,
     "metadata": {},
     "output_type": "execute_result"
    }
   ],
   "source": [
    "# Let's check for the last five rows of our data\n",
    "\n",
    "Supply_chain_data.tail()"
   ]
  },
  {
   "cell_type": "code",
   "execution_count": null,
   "id": "3b4bc1a6",
   "metadata": {},
   "outputs": [],
   "source": []
  },
  {
   "cell_type": "markdown",
   "id": "6e8cec55",
   "metadata": {},
   "source": [
    "# Get Information About Our Dataset"
   ]
  },
  {
   "cell_type": "code",
   "execution_count": 5,
   "id": "15a9cddc",
   "metadata": {},
   "outputs": [
    {
     "name": "stdout",
     "output_type": "stream",
     "text": [
      "<class 'pandas.core.frame.DataFrame'>\n",
      "RangeIndex: 7991 entries, 0 to 7990\n",
      "Data columns (total 16 columns):\n",
      " #   Column            Non-Null Count  Dtype  \n",
      "---  ------            --------------  -----  \n",
      " 0   OrderNumber       7991 non-null   object \n",
      " 1   Sales Channel     7991 non-null   object \n",
      " 2   WarehouseCode     7991 non-null   object \n",
      " 3   ProcuredDate      7991 non-null   object \n",
      " 4   OrderDate         7991 non-null   object \n",
      " 5   ShipDate          7991 non-null   object \n",
      " 6   DeliveryDate      7991 non-null   object \n",
      " 7   CurrencyCode      7991 non-null   object \n",
      " 8   _SalesTeamID      7991 non-null   int64  \n",
      " 9   _CustomerID       7991 non-null   int64  \n",
      " 10  _StoreID          7991 non-null   int64  \n",
      " 11  _ProductID        7991 non-null   int64  \n",
      " 12  Order Quantity    7991 non-null   int64  \n",
      " 13  Discount Applied  7991 non-null   float64\n",
      " 14  Unit Cost         7991 non-null   object \n",
      " 15  Unit Price        7991 non-null   object \n",
      "dtypes: float64(1), int64(5), object(10)\n",
      "memory usage: 999.0+ KB\n"
     ]
    }
   ],
   "source": [
    "# Let's get the information about our dataset \n",
    "\n",
    "Supply_chain_data.info()"
   ]
  },
  {
   "cell_type": "code",
   "execution_count": null,
   "id": "a5e1ff6b",
   "metadata": {},
   "outputs": [],
   "source": []
  },
  {
   "cell_type": "markdown",
   "id": "3ccd4997",
   "metadata": {},
   "source": [
    "# Find The Shape of Our Dataset (Number of Rows and Columns)"
   ]
  },
  {
   "cell_type": "code",
   "execution_count": 6,
   "id": "42cae28a",
   "metadata": {},
   "outputs": [
    {
     "data": {
      "text/plain": [
       "(7991, 16)"
      ]
     },
     "execution_count": 6,
     "metadata": {},
     "output_type": "execute_result"
    }
   ],
   "source": [
    "# Let's check the shape of our dataset\n",
    "\n",
    "Supply_chain_data.shape"
   ]
  },
  {
   "cell_type": "code",
   "execution_count": 7,
   "id": "c4b528f8",
   "metadata": {},
   "outputs": [
    {
     "name": "stdout",
     "output_type": "stream",
     "text": [
      "Numbers of Rows 7991\n",
      "Numbers of Columns 16\n"
     ]
    }
   ],
   "source": [
    "print('Numbers of Rows', Supply_chain_data.shape[0])\n",
    "print('Numbers of Columns', Supply_chain_data.shape[1])"
   ]
  },
  {
   "cell_type": "markdown",
   "id": "54ca89fa",
   "metadata": {},
   "source": [
    "### We have 7991 rows and 16 columns."
   ]
  },
  {
   "cell_type": "code",
   "execution_count": null,
   "id": "f8aa3078",
   "metadata": {},
   "outputs": [],
   "source": []
  },
  {
   "cell_type": "markdown",
   "id": "6456a90c",
   "metadata": {},
   "source": [
    "# Check The Null Values in Our Dataset"
   ]
  },
  {
   "cell_type": "code",
   "execution_count": 8,
   "id": "fffa6c8b",
   "metadata": {},
   "outputs": [
    {
     "data": {
      "text/plain": [
       "OrderNumber         0\n",
       "Sales Channel       0\n",
       "WarehouseCode       0\n",
       "ProcuredDate        0\n",
       "OrderDate           0\n",
       "ShipDate            0\n",
       "DeliveryDate        0\n",
       "CurrencyCode        0\n",
       "_SalesTeamID        0\n",
       "_CustomerID         0\n",
       "_StoreID            0\n",
       "_ProductID          0\n",
       "Order Quantity      0\n",
       "Discount Applied    0\n",
       "Unit Cost           0\n",
       "Unit Price          0\n",
       "dtype: int64"
      ]
     },
     "execution_count": 8,
     "metadata": {},
     "output_type": "execute_result"
    }
   ],
   "source": [
    "Supply_chain_data.isnull().sum()"
   ]
  },
  {
   "cell_type": "code",
   "execution_count": null,
   "id": "a56d4925",
   "metadata": {},
   "outputs": [],
   "source": []
  },
  {
   "cell_type": "code",
   "execution_count": 9,
   "id": "6453ff05",
   "metadata": {},
   "outputs": [],
   "source": [
    "# Let's convert Order, Ship, Procured and Delivery date to Complete Date.\n",
    "\n",
    "Supply_chain_data['OrderDate'] = pd.to_datetime(Supply_chain_data['OrderDate']).dt.strftime('%d/%m/%Y')\n",
    "Supply_chain_data['ShipDate']=pd.to_datetime(Supply_chain_data['ShipDate']).dt.strftime('%d/%m/%Y')\n",
    "Supply_chain_data['ProcuredDate']=pd.to_datetime(Supply_chain_data['ProcuredDate']).dt.strftime('%d/%m/%Y')\n",
    "Supply_chain_data['DeliveryDate']=pd.to_datetime(Supply_chain_data['DeliveryDate']).dt.strftime('%d/%m/%Y')"
   ]
  },
  {
   "cell_type": "code",
   "execution_count": 10,
   "id": "65ca553d",
   "metadata": {},
   "outputs": [],
   "source": [
    "# Let's Order, Ship, Procured and Delivery date date from object to date time.\n",
    "\n",
    "Supply_chain_data['OrderDate']=pd.to_datetime(Supply_chain_data['OrderDate'], format='%d/%m/%Y')\n",
    "Supply_chain_data['ShipDate']=pd.to_datetime(Supply_chain_data['ShipDate'], format='%d/%m/%Y')\n",
    "Supply_chain_data['ProcuredDate']=pd.to_datetime(Supply_chain_data['ProcuredDate'], format='%d/%m/%Y')\n",
    "Supply_chain_data['DeliveryDate']=pd.to_datetime(Supply_chain_data['DeliveryDate'], format='%d/%m/%Y')"
   ]
  },
  {
   "cell_type": "code",
   "execution_count": 11,
   "id": "7342e575",
   "metadata": {},
   "outputs": [
    {
     "data": {
      "text/html": [
       "<div>\n",
       "<style scoped>\n",
       "    .dataframe tbody tr th:only-of-type {\n",
       "        vertical-align: middle;\n",
       "    }\n",
       "\n",
       "    .dataframe tbody tr th {\n",
       "        vertical-align: top;\n",
       "    }\n",
       "\n",
       "    .dataframe thead th {\n",
       "        text-align: right;\n",
       "    }\n",
       "</style>\n",
       "<table border=\"1\" class=\"dataframe\">\n",
       "  <thead>\n",
       "    <tr style=\"text-align: right;\">\n",
       "      <th></th>\n",
       "      <th>OrderNumber</th>\n",
       "      <th>Sales Channel</th>\n",
       "      <th>WarehouseCode</th>\n",
       "      <th>ProcuredDate</th>\n",
       "      <th>OrderDate</th>\n",
       "      <th>ShipDate</th>\n",
       "      <th>DeliveryDate</th>\n",
       "      <th>CurrencyCode</th>\n",
       "      <th>_SalesTeamID</th>\n",
       "      <th>_CustomerID</th>\n",
       "      <th>_StoreID</th>\n",
       "      <th>_ProductID</th>\n",
       "      <th>Order Quantity</th>\n",
       "      <th>Discount Applied</th>\n",
       "      <th>Unit Cost</th>\n",
       "      <th>Unit Price</th>\n",
       "    </tr>\n",
       "  </thead>\n",
       "  <tbody>\n",
       "    <tr>\n",
       "      <th>0</th>\n",
       "      <td>SO - 000101</td>\n",
       "      <td>In-Store</td>\n",
       "      <td>WARE-UHY1004</td>\n",
       "      <td>2017-12-31</td>\n",
       "      <td>2018-05-31</td>\n",
       "      <td>2018-06-14</td>\n",
       "      <td>2018-06-19</td>\n",
       "      <td>USD</td>\n",
       "      <td>6</td>\n",
       "      <td>15</td>\n",
       "      <td>259</td>\n",
       "      <td>12</td>\n",
       "      <td>5</td>\n",
       "      <td>0.08</td>\n",
       "      <td>$1,001.18</td>\n",
       "      <td>$1,963.10</td>\n",
       "    </tr>\n",
       "    <tr>\n",
       "      <th>1</th>\n",
       "      <td>SO - 000102</td>\n",
       "      <td>Online</td>\n",
       "      <td>WARE-NMK1003</td>\n",
       "      <td>2017-12-31</td>\n",
       "      <td>2018-05-31</td>\n",
       "      <td>2018-06-22</td>\n",
       "      <td>2018-02-07</td>\n",
       "      <td>USD</td>\n",
       "      <td>14</td>\n",
       "      <td>20</td>\n",
       "      <td>196</td>\n",
       "      <td>27</td>\n",
       "      <td>3</td>\n",
       "      <td>0.08</td>\n",
       "      <td>$3,348.66</td>\n",
       "      <td>$3,939.60</td>\n",
       "    </tr>\n",
       "    <tr>\n",
       "      <th>2</th>\n",
       "      <td>SO - 000103</td>\n",
       "      <td>Distributor</td>\n",
       "      <td>WARE-UHY1004</td>\n",
       "      <td>2017-12-31</td>\n",
       "      <td>2018-05-31</td>\n",
       "      <td>2018-06-21</td>\n",
       "      <td>2018-01-07</td>\n",
       "      <td>USD</td>\n",
       "      <td>21</td>\n",
       "      <td>16</td>\n",
       "      <td>213</td>\n",
       "      <td>16</td>\n",
       "      <td>1</td>\n",
       "      <td>0.05</td>\n",
       "      <td>$781.22</td>\n",
       "      <td>$1,775.50</td>\n",
       "    </tr>\n",
       "    <tr>\n",
       "      <th>3</th>\n",
       "      <td>SO - 000104</td>\n",
       "      <td>Wholesale</td>\n",
       "      <td>WARE-NMK1003</td>\n",
       "      <td>2017-12-31</td>\n",
       "      <td>2018-05-31</td>\n",
       "      <td>2018-02-06</td>\n",
       "      <td>2018-07-06</td>\n",
       "      <td>USD</td>\n",
       "      <td>28</td>\n",
       "      <td>48</td>\n",
       "      <td>107</td>\n",
       "      <td>23</td>\n",
       "      <td>8</td>\n",
       "      <td>0.08</td>\n",
       "      <td>$1,464.69</td>\n",
       "      <td>$2,324.90</td>\n",
       "    </tr>\n",
       "    <tr>\n",
       "      <th>4</th>\n",
       "      <td>SO - 000105</td>\n",
       "      <td>Distributor</td>\n",
       "      <td>WARE-NMK1003</td>\n",
       "      <td>2018-10-04</td>\n",
       "      <td>2018-05-31</td>\n",
       "      <td>2018-06-16</td>\n",
       "      <td>2018-06-26</td>\n",
       "      <td>USD</td>\n",
       "      <td>22</td>\n",
       "      <td>49</td>\n",
       "      <td>111</td>\n",
       "      <td>26</td>\n",
       "      <td>8</td>\n",
       "      <td>0.10</td>\n",
       "      <td>$1,476.14</td>\n",
       "      <td>$1,822.40</td>\n",
       "    </tr>\n",
       "  </tbody>\n",
       "</table>\n",
       "</div>"
      ],
      "text/plain": [
       "   OrderNumber Sales Channel WarehouseCode ProcuredDate  OrderDate   ShipDate  \\\n",
       "0  SO - 000101      In-Store  WARE-UHY1004   2017-12-31 2018-05-31 2018-06-14   \n",
       "1  SO - 000102        Online  WARE-NMK1003   2017-12-31 2018-05-31 2018-06-22   \n",
       "2  SO - 000103   Distributor  WARE-UHY1004   2017-12-31 2018-05-31 2018-06-21   \n",
       "3  SO - 000104     Wholesale  WARE-NMK1003   2017-12-31 2018-05-31 2018-02-06   \n",
       "4  SO - 000105   Distributor  WARE-NMK1003   2018-10-04 2018-05-31 2018-06-16   \n",
       "\n",
       "  DeliveryDate CurrencyCode  _SalesTeamID  _CustomerID  _StoreID  _ProductID  \\\n",
       "0   2018-06-19          USD             6           15       259          12   \n",
       "1   2018-02-07          USD            14           20       196          27   \n",
       "2   2018-01-07          USD            21           16       213          16   \n",
       "3   2018-07-06          USD            28           48       107          23   \n",
       "4   2018-06-26          USD            22           49       111          26   \n",
       "\n",
       "   Order Quantity  Discount Applied  Unit Cost Unit Price  \n",
       "0               5              0.08  $1,001.18  $1,963.10  \n",
       "1               3              0.08  $3,348.66  $3,939.60  \n",
       "2               1              0.05    $781.22  $1,775.50  \n",
       "3               8              0.08  $1,464.69  $2,324.90  \n",
       "4               8              0.10  $1,476.14  $1,822.40  "
      ]
     },
     "execution_count": 11,
     "metadata": {},
     "output_type": "execute_result"
    }
   ],
   "source": [
    "# Let's check if the features were sucesssfully converted to complete data and datetime \n",
    "\n",
    "Supply_chain_data.head()"
   ]
  },
  {
   "cell_type": "code",
   "execution_count": 12,
   "id": "58f19a2f",
   "metadata": {},
   "outputs": [
    {
     "name": "stdout",
     "output_type": "stream",
     "text": [
      "<class 'pandas.core.frame.DataFrame'>\n",
      "RangeIndex: 7991 entries, 0 to 7990\n",
      "Data columns (total 16 columns):\n",
      " #   Column            Non-Null Count  Dtype         \n",
      "---  ------            --------------  -----         \n",
      " 0   OrderNumber       7991 non-null   object        \n",
      " 1   Sales Channel     7991 non-null   object        \n",
      " 2   WarehouseCode     7991 non-null   object        \n",
      " 3   ProcuredDate      7991 non-null   datetime64[ns]\n",
      " 4   OrderDate         7991 non-null   datetime64[ns]\n",
      " 5   ShipDate          7991 non-null   datetime64[ns]\n",
      " 6   DeliveryDate      7991 non-null   datetime64[ns]\n",
      " 7   CurrencyCode      7991 non-null   object        \n",
      " 8   _SalesTeamID      7991 non-null   int64         \n",
      " 9   _CustomerID       7991 non-null   int64         \n",
      " 10  _StoreID          7991 non-null   int64         \n",
      " 11  _ProductID        7991 non-null   int64         \n",
      " 12  Order Quantity    7991 non-null   int64         \n",
      " 13  Discount Applied  7991 non-null   float64       \n",
      " 14  Unit Cost         7991 non-null   object        \n",
      " 15  Unit Price        7991 non-null   object        \n",
      "dtypes: datetime64[ns](4), float64(1), int64(5), object(6)\n",
      "memory usage: 999.0+ KB\n"
     ]
    }
   ],
   "source": [
    "Supply_chain_data.info()"
   ]
  },
  {
   "cell_type": "code",
   "execution_count": null,
   "id": "64990894",
   "metadata": {},
   "outputs": [],
   "source": []
  },
  {
   "cell_type": "markdown",
   "id": "a2c677cb",
   "metadata": {},
   "source": [
    "# Dropping The Features That Are Not Necessary For Our Analysis"
   ]
  },
  {
   "cell_type": "code",
   "execution_count": 13,
   "id": "2c1b6eec",
   "metadata": {},
   "outputs": [
    {
     "data": {
      "text/html": [
       "<div>\n",
       "<style scoped>\n",
       "    .dataframe tbody tr th:only-of-type {\n",
       "        vertical-align: middle;\n",
       "    }\n",
       "\n",
       "    .dataframe tbody tr th {\n",
       "        vertical-align: top;\n",
       "    }\n",
       "\n",
       "    .dataframe thead th {\n",
       "        text-align: right;\n",
       "    }\n",
       "</style>\n",
       "<table border=\"1\" class=\"dataframe\">\n",
       "  <thead>\n",
       "    <tr style=\"text-align: right;\">\n",
       "      <th></th>\n",
       "      <th>OrderNumber</th>\n",
       "      <th>Sales Channel</th>\n",
       "      <th>WarehouseCode</th>\n",
       "      <th>ProcuredDate</th>\n",
       "      <th>OrderDate</th>\n",
       "      <th>ShipDate</th>\n",
       "      <th>DeliveryDate</th>\n",
       "      <th>CurrencyCode</th>\n",
       "      <th>_SalesTeamID</th>\n",
       "      <th>_CustomerID</th>\n",
       "      <th>_StoreID</th>\n",
       "      <th>_ProductID</th>\n",
       "      <th>Order Quantity</th>\n",
       "      <th>Discount Applied</th>\n",
       "      <th>Unit Cost</th>\n",
       "      <th>Unit Price</th>\n",
       "    </tr>\n",
       "  </thead>\n",
       "  <tbody>\n",
       "    <tr>\n",
       "      <th>0</th>\n",
       "      <td>SO - 000101</td>\n",
       "      <td>In-Store</td>\n",
       "      <td>WARE-UHY1004</td>\n",
       "      <td>2017-12-31</td>\n",
       "      <td>2018-05-31</td>\n",
       "      <td>2018-06-14</td>\n",
       "      <td>2018-06-19</td>\n",
       "      <td>USD</td>\n",
       "      <td>6</td>\n",
       "      <td>15</td>\n",
       "      <td>259</td>\n",
       "      <td>12</td>\n",
       "      <td>5</td>\n",
       "      <td>0.08</td>\n",
       "      <td>$1,001.18</td>\n",
       "      <td>$1,963.10</td>\n",
       "    </tr>\n",
       "  </tbody>\n",
       "</table>\n",
       "</div>"
      ],
      "text/plain": [
       "   OrderNumber Sales Channel WarehouseCode ProcuredDate  OrderDate   ShipDate  \\\n",
       "0  SO - 000101      In-Store  WARE-UHY1004   2017-12-31 2018-05-31 2018-06-14   \n",
       "\n",
       "  DeliveryDate CurrencyCode  _SalesTeamID  _CustomerID  _StoreID  _ProductID  \\\n",
       "0   2018-06-19          USD             6           15       259          12   \n",
       "\n",
       "   Order Quantity  Discount Applied  Unit Cost Unit Price  \n",
       "0               5              0.08  $1,001.18  $1,963.10  "
      ]
     },
     "execution_count": 13,
     "metadata": {},
     "output_type": "execute_result"
    }
   ],
   "source": [
    "# Let's drop the features that are not necessary \n",
    "\n",
    "Supply_chain_data.head(1)"
   ]
  },
  {
   "cell_type": "code",
   "execution_count": 14,
   "id": "24f1dab6",
   "metadata": {},
   "outputs": [],
   "source": [
    "Supply_chain_data.drop(\"OrderNumber\", axis = 1, inplace = True)"
   ]
  },
  {
   "cell_type": "code",
   "execution_count": 15,
   "id": "c98c83c5",
   "metadata": {},
   "outputs": [],
   "source": [
    "Supply_chain_data.drop(\"ProcuredDate\", axis = 1, inplace = True)"
   ]
  },
  {
   "cell_type": "code",
   "execution_count": 16,
   "id": "831c9162",
   "metadata": {},
   "outputs": [],
   "source": [
    "Supply_chain_data.drop(\"ShipDate\", axis = 1, inplace = True)"
   ]
  },
  {
   "cell_type": "code",
   "execution_count": 17,
   "id": "2ba4b899",
   "metadata": {},
   "outputs": [],
   "source": [
    "Supply_chain_data.drop(\"CurrencyCode\", axis = 1, inplace = True)"
   ]
  },
  {
   "cell_type": "code",
   "execution_count": 18,
   "id": "9aac1b96",
   "metadata": {},
   "outputs": [
    {
     "data": {
      "text/html": [
       "<div>\n",
       "<style scoped>\n",
       "    .dataframe tbody tr th:only-of-type {\n",
       "        vertical-align: middle;\n",
       "    }\n",
       "\n",
       "    .dataframe tbody tr th {\n",
       "        vertical-align: top;\n",
       "    }\n",
       "\n",
       "    .dataframe thead th {\n",
       "        text-align: right;\n",
       "    }\n",
       "</style>\n",
       "<table border=\"1\" class=\"dataframe\">\n",
       "  <thead>\n",
       "    <tr style=\"text-align: right;\">\n",
       "      <th></th>\n",
       "      <th>Sales Channel</th>\n",
       "      <th>WarehouseCode</th>\n",
       "      <th>OrderDate</th>\n",
       "      <th>DeliveryDate</th>\n",
       "      <th>_SalesTeamID</th>\n",
       "      <th>_CustomerID</th>\n",
       "      <th>_StoreID</th>\n",
       "      <th>_ProductID</th>\n",
       "      <th>Order Quantity</th>\n",
       "      <th>Discount Applied</th>\n",
       "      <th>Unit Cost</th>\n",
       "      <th>Unit Price</th>\n",
       "    </tr>\n",
       "  </thead>\n",
       "  <tbody>\n",
       "    <tr>\n",
       "      <th>0</th>\n",
       "      <td>In-Store</td>\n",
       "      <td>WARE-UHY1004</td>\n",
       "      <td>2018-05-31</td>\n",
       "      <td>2018-06-19</td>\n",
       "      <td>6</td>\n",
       "      <td>15</td>\n",
       "      <td>259</td>\n",
       "      <td>12</td>\n",
       "      <td>5</td>\n",
       "      <td>0.08</td>\n",
       "      <td>$1,001.18</td>\n",
       "      <td>$1,963.10</td>\n",
       "    </tr>\n",
       "  </tbody>\n",
       "</table>\n",
       "</div>"
      ],
      "text/plain": [
       "  Sales Channel WarehouseCode  OrderDate DeliveryDate  _SalesTeamID  \\\n",
       "0      In-Store  WARE-UHY1004 2018-05-31   2018-06-19             6   \n",
       "\n",
       "   _CustomerID  _StoreID  _ProductID  Order Quantity  Discount Applied  \\\n",
       "0           15       259          12               5              0.08   \n",
       "\n",
       "   Unit Cost Unit Price  \n",
       "0  $1,001.18  $1,963.10  "
      ]
     },
     "execution_count": 18,
     "metadata": {},
     "output_type": "execute_result"
    }
   ],
   "source": [
    "# Let's check if the features were successfully dropped\n",
    "\n",
    "Supply_chain_data.head(1)"
   ]
  },
  {
   "cell_type": "code",
   "execution_count": null,
   "id": "223ec379",
   "metadata": {},
   "outputs": [],
   "source": []
  },
  {
   "cell_type": "code",
   "execution_count": 19,
   "id": "807b37b3",
   "metadata": {},
   "outputs": [
    {
     "name": "stderr",
     "output_type": "stream",
     "text": [
      "C:\\Users\\LENOVO USER\\AppData\\Local\\Temp\\ipykernel_5364\\3558329953.py:3: FutureWarning: The default value of regex will change from True to False in a future version. In addition, single character regular expressions will *not* be treated as literal strings when regex=True.\n",
      "  Supply_chain_data['Unit Cost'] = Supply_chain_data['Unit Cost'].str.replace('$', '').str.replace(',', '')\n",
      "C:\\Users\\LENOVO USER\\AppData\\Local\\Temp\\ipykernel_5364\\3558329953.py:4: FutureWarning: The default value of regex will change from True to False in a future version. In addition, single character regular expressions will *not* be treated as literal strings when regex=True.\n",
      "  Supply_chain_data['Unit Price'] = Supply_chain_data['Unit Price'].str.replace('$', '').str.replace(',', '')\n"
     ]
    }
   ],
   "source": [
    "# Let's remove the dollar sign and comma from the Unit Cost and Price column\n",
    "\n",
    "Supply_chain_data['Unit Cost'] = Supply_chain_data['Unit Cost'].str.replace('$', '').str.replace(',', '')\n",
    "Supply_chain_data['Unit Price'] = Supply_chain_data['Unit Price'].str.replace('$', '').str.replace(',', '')"
   ]
  },
  {
   "cell_type": "code",
   "execution_count": 20,
   "id": "aecfc8e7",
   "metadata": {},
   "outputs": [],
   "source": [
    "# Let's convert the price and cost column to a numeric type\n",
    "\n",
    "Supply_chain_data['Unit Cost'] = pd.to_numeric(Supply_chain_data['Unit Cost'])\n",
    "Supply_chain_data['Unit Price'] = pd.to_numeric(Supply_chain_data['Unit Price'])"
   ]
  },
  {
   "cell_type": "code",
   "execution_count": 21,
   "id": "efc1b36e",
   "metadata": {},
   "outputs": [
    {
     "data": {
      "text/html": [
       "<div>\n",
       "<style scoped>\n",
       "    .dataframe tbody tr th:only-of-type {\n",
       "        vertical-align: middle;\n",
       "    }\n",
       "\n",
       "    .dataframe tbody tr th {\n",
       "        vertical-align: top;\n",
       "    }\n",
       "\n",
       "    .dataframe thead th {\n",
       "        text-align: right;\n",
       "    }\n",
       "</style>\n",
       "<table border=\"1\" class=\"dataframe\">\n",
       "  <thead>\n",
       "    <tr style=\"text-align: right;\">\n",
       "      <th></th>\n",
       "      <th>Sales Channel</th>\n",
       "      <th>WarehouseCode</th>\n",
       "      <th>OrderDate</th>\n",
       "      <th>DeliveryDate</th>\n",
       "      <th>_SalesTeamID</th>\n",
       "      <th>_CustomerID</th>\n",
       "      <th>_StoreID</th>\n",
       "      <th>_ProductID</th>\n",
       "      <th>Order Quantity</th>\n",
       "      <th>Discount Applied</th>\n",
       "      <th>Unit Cost</th>\n",
       "      <th>Unit Price</th>\n",
       "    </tr>\n",
       "  </thead>\n",
       "  <tbody>\n",
       "    <tr>\n",
       "      <th>0</th>\n",
       "      <td>In-Store</td>\n",
       "      <td>WARE-UHY1004</td>\n",
       "      <td>2018-05-31</td>\n",
       "      <td>2018-06-19</td>\n",
       "      <td>6</td>\n",
       "      <td>15</td>\n",
       "      <td>259</td>\n",
       "      <td>12</td>\n",
       "      <td>5</td>\n",
       "      <td>0.08</td>\n",
       "      <td>1001.18</td>\n",
       "      <td>1963.1</td>\n",
       "    </tr>\n",
       "    <tr>\n",
       "      <th>1</th>\n",
       "      <td>Online</td>\n",
       "      <td>WARE-NMK1003</td>\n",
       "      <td>2018-05-31</td>\n",
       "      <td>2018-02-07</td>\n",
       "      <td>14</td>\n",
       "      <td>20</td>\n",
       "      <td>196</td>\n",
       "      <td>27</td>\n",
       "      <td>3</td>\n",
       "      <td>0.08</td>\n",
       "      <td>3348.66</td>\n",
       "      <td>3939.6</td>\n",
       "    </tr>\n",
       "    <tr>\n",
       "      <th>2</th>\n",
       "      <td>Distributor</td>\n",
       "      <td>WARE-UHY1004</td>\n",
       "      <td>2018-05-31</td>\n",
       "      <td>2018-01-07</td>\n",
       "      <td>21</td>\n",
       "      <td>16</td>\n",
       "      <td>213</td>\n",
       "      <td>16</td>\n",
       "      <td>1</td>\n",
       "      <td>0.05</td>\n",
       "      <td>781.22</td>\n",
       "      <td>1775.5</td>\n",
       "    </tr>\n",
       "    <tr>\n",
       "      <th>3</th>\n",
       "      <td>Wholesale</td>\n",
       "      <td>WARE-NMK1003</td>\n",
       "      <td>2018-05-31</td>\n",
       "      <td>2018-07-06</td>\n",
       "      <td>28</td>\n",
       "      <td>48</td>\n",
       "      <td>107</td>\n",
       "      <td>23</td>\n",
       "      <td>8</td>\n",
       "      <td>0.08</td>\n",
       "      <td>1464.69</td>\n",
       "      <td>2324.9</td>\n",
       "    </tr>\n",
       "    <tr>\n",
       "      <th>4</th>\n",
       "      <td>Distributor</td>\n",
       "      <td>WARE-NMK1003</td>\n",
       "      <td>2018-05-31</td>\n",
       "      <td>2018-06-26</td>\n",
       "      <td>22</td>\n",
       "      <td>49</td>\n",
       "      <td>111</td>\n",
       "      <td>26</td>\n",
       "      <td>8</td>\n",
       "      <td>0.10</td>\n",
       "      <td>1476.14</td>\n",
       "      <td>1822.4</td>\n",
       "    </tr>\n",
       "  </tbody>\n",
       "</table>\n",
       "</div>"
      ],
      "text/plain": [
       "  Sales Channel WarehouseCode  OrderDate DeliveryDate  _SalesTeamID  \\\n",
       "0      In-Store  WARE-UHY1004 2018-05-31   2018-06-19             6   \n",
       "1        Online  WARE-NMK1003 2018-05-31   2018-02-07            14   \n",
       "2   Distributor  WARE-UHY1004 2018-05-31   2018-01-07            21   \n",
       "3     Wholesale  WARE-NMK1003 2018-05-31   2018-07-06            28   \n",
       "4   Distributor  WARE-NMK1003 2018-05-31   2018-06-26            22   \n",
       "\n",
       "   _CustomerID  _StoreID  _ProductID  Order Quantity  Discount Applied  \\\n",
       "0           15       259          12               5              0.08   \n",
       "1           20       196          27               3              0.08   \n",
       "2           16       213          16               1              0.05   \n",
       "3           48       107          23               8              0.08   \n",
       "4           49       111          26               8              0.10   \n",
       "\n",
       "   Unit Cost  Unit Price  \n",
       "0    1001.18      1963.1  \n",
       "1    3348.66      3939.6  \n",
       "2     781.22      1775.5  \n",
       "3    1464.69      2324.9  \n",
       "4    1476.14      1822.4  "
      ]
     },
     "execution_count": 21,
     "metadata": {},
     "output_type": "execute_result"
    }
   ],
   "source": [
    "Supply_chain_data.head()"
   ]
  },
  {
   "cell_type": "code",
   "execution_count": null,
   "id": "49204ecd",
   "metadata": {},
   "outputs": [],
   "source": []
  },
  {
   "cell_type": "markdown",
   "id": "290ea0b7",
   "metadata": {},
   "source": [
    "# Creating New Features for the Data"
   ]
  },
  {
   "cell_type": "code",
   "execution_count": 22,
   "id": "db18b305",
   "metadata": {},
   "outputs": [],
   "source": [
    "# Let's create new features for our analysis (Delivery time and Profit)\n",
    "\n",
    "Supply_chain_data[\"Delivery time\"] = abs((Supply_chain_data['DeliveryDate'] - Supply_chain_data['OrderDate']) / np.timedelta64(1, 'D'))\n",
    "Supply_chain_data['Profit']=((Supply_chain_data['Unit Price']-Supply_chain_data['Unit Cost'])*Supply_chain_data['Order Quantity'])-Supply_chain_data['Discount Applied']"
   ]
  },
  {
   "cell_type": "code",
   "execution_count": 23,
   "id": "eac567c6",
   "metadata": {},
   "outputs": [
    {
     "data": {
      "text/html": [
       "<div>\n",
       "<style scoped>\n",
       "    .dataframe tbody tr th:only-of-type {\n",
       "        vertical-align: middle;\n",
       "    }\n",
       "\n",
       "    .dataframe tbody tr th {\n",
       "        vertical-align: top;\n",
       "    }\n",
       "\n",
       "    .dataframe thead th {\n",
       "        text-align: right;\n",
       "    }\n",
       "</style>\n",
       "<table border=\"1\" class=\"dataframe\">\n",
       "  <thead>\n",
       "    <tr style=\"text-align: right;\">\n",
       "      <th></th>\n",
       "      <th>Sales Channel</th>\n",
       "      <th>WarehouseCode</th>\n",
       "      <th>OrderDate</th>\n",
       "      <th>DeliveryDate</th>\n",
       "      <th>_SalesTeamID</th>\n",
       "      <th>_CustomerID</th>\n",
       "      <th>_StoreID</th>\n",
       "      <th>_ProductID</th>\n",
       "      <th>Order Quantity</th>\n",
       "      <th>Discount Applied</th>\n",
       "      <th>Unit Cost</th>\n",
       "      <th>Unit Price</th>\n",
       "      <th>Delivery time</th>\n",
       "      <th>Profit</th>\n",
       "    </tr>\n",
       "  </thead>\n",
       "  <tbody>\n",
       "    <tr>\n",
       "      <th>0</th>\n",
       "      <td>In-Store</td>\n",
       "      <td>WARE-UHY1004</td>\n",
       "      <td>2018-05-31</td>\n",
       "      <td>2018-06-19</td>\n",
       "      <td>6</td>\n",
       "      <td>15</td>\n",
       "      <td>259</td>\n",
       "      <td>12</td>\n",
       "      <td>5</td>\n",
       "      <td>0.08</td>\n",
       "      <td>1001.18</td>\n",
       "      <td>1963.1</td>\n",
       "      <td>19.0</td>\n",
       "      <td>4809.52</td>\n",
       "    </tr>\n",
       "    <tr>\n",
       "      <th>1</th>\n",
       "      <td>Online</td>\n",
       "      <td>WARE-NMK1003</td>\n",
       "      <td>2018-05-31</td>\n",
       "      <td>2018-02-07</td>\n",
       "      <td>14</td>\n",
       "      <td>20</td>\n",
       "      <td>196</td>\n",
       "      <td>27</td>\n",
       "      <td>3</td>\n",
       "      <td>0.08</td>\n",
       "      <td>3348.66</td>\n",
       "      <td>3939.6</td>\n",
       "      <td>113.0</td>\n",
       "      <td>1772.74</td>\n",
       "    </tr>\n",
       "    <tr>\n",
       "      <th>2</th>\n",
       "      <td>Distributor</td>\n",
       "      <td>WARE-UHY1004</td>\n",
       "      <td>2018-05-31</td>\n",
       "      <td>2018-01-07</td>\n",
       "      <td>21</td>\n",
       "      <td>16</td>\n",
       "      <td>213</td>\n",
       "      <td>16</td>\n",
       "      <td>1</td>\n",
       "      <td>0.05</td>\n",
       "      <td>781.22</td>\n",
       "      <td>1775.5</td>\n",
       "      <td>144.0</td>\n",
       "      <td>994.23</td>\n",
       "    </tr>\n",
       "    <tr>\n",
       "      <th>3</th>\n",
       "      <td>Wholesale</td>\n",
       "      <td>WARE-NMK1003</td>\n",
       "      <td>2018-05-31</td>\n",
       "      <td>2018-07-06</td>\n",
       "      <td>28</td>\n",
       "      <td>48</td>\n",
       "      <td>107</td>\n",
       "      <td>23</td>\n",
       "      <td>8</td>\n",
       "      <td>0.08</td>\n",
       "      <td>1464.69</td>\n",
       "      <td>2324.9</td>\n",
       "      <td>36.0</td>\n",
       "      <td>6881.60</td>\n",
       "    </tr>\n",
       "    <tr>\n",
       "      <th>4</th>\n",
       "      <td>Distributor</td>\n",
       "      <td>WARE-NMK1003</td>\n",
       "      <td>2018-05-31</td>\n",
       "      <td>2018-06-26</td>\n",
       "      <td>22</td>\n",
       "      <td>49</td>\n",
       "      <td>111</td>\n",
       "      <td>26</td>\n",
       "      <td>8</td>\n",
       "      <td>0.10</td>\n",
       "      <td>1476.14</td>\n",
       "      <td>1822.4</td>\n",
       "      <td>26.0</td>\n",
       "      <td>2769.98</td>\n",
       "    </tr>\n",
       "  </tbody>\n",
       "</table>\n",
       "</div>"
      ],
      "text/plain": [
       "  Sales Channel WarehouseCode  OrderDate DeliveryDate  _SalesTeamID  \\\n",
       "0      In-Store  WARE-UHY1004 2018-05-31   2018-06-19             6   \n",
       "1        Online  WARE-NMK1003 2018-05-31   2018-02-07            14   \n",
       "2   Distributor  WARE-UHY1004 2018-05-31   2018-01-07            21   \n",
       "3     Wholesale  WARE-NMK1003 2018-05-31   2018-07-06            28   \n",
       "4   Distributor  WARE-NMK1003 2018-05-31   2018-06-26            22   \n",
       "\n",
       "   _CustomerID  _StoreID  _ProductID  Order Quantity  Discount Applied  \\\n",
       "0           15       259          12               5              0.08   \n",
       "1           20       196          27               3              0.08   \n",
       "2           16       213          16               1              0.05   \n",
       "3           48       107          23               8              0.08   \n",
       "4           49       111          26               8              0.10   \n",
       "\n",
       "   Unit Cost  Unit Price  Delivery time   Profit  \n",
       "0    1001.18      1963.1           19.0  4809.52  \n",
       "1    3348.66      3939.6          113.0  1772.74  \n",
       "2     781.22      1775.5          144.0   994.23  \n",
       "3    1464.69      2324.9           36.0  6881.60  \n",
       "4    1476.14      1822.4           26.0  2769.98  "
      ]
     },
     "execution_count": 23,
     "metadata": {},
     "output_type": "execute_result"
    }
   ],
   "source": [
    "# Let's check if our features were successfully created \n",
    "\n",
    "Supply_chain_data.head()"
   ]
  },
  {
   "cell_type": "code",
   "execution_count": 24,
   "id": "928da751",
   "metadata": {},
   "outputs": [
    {
     "name": "stdout",
     "output_type": "stream",
     "text": [
      "<class 'pandas.core.frame.DataFrame'>\n",
      "RangeIndex: 7991 entries, 0 to 7990\n",
      "Data columns (total 14 columns):\n",
      " #   Column            Non-Null Count  Dtype         \n",
      "---  ------            --------------  -----         \n",
      " 0   Sales Channel     7991 non-null   object        \n",
      " 1   WarehouseCode     7991 non-null   object        \n",
      " 2   OrderDate         7991 non-null   datetime64[ns]\n",
      " 3   DeliveryDate      7991 non-null   datetime64[ns]\n",
      " 4   _SalesTeamID      7991 non-null   int64         \n",
      " 5   _CustomerID       7991 non-null   int64         \n",
      " 6   _StoreID          7991 non-null   int64         \n",
      " 7   _ProductID        7991 non-null   int64         \n",
      " 8   Order Quantity    7991 non-null   int64         \n",
      " 9   Discount Applied  7991 non-null   float64       \n",
      " 10  Unit Cost         7991 non-null   float64       \n",
      " 11  Unit Price        7991 non-null   float64       \n",
      " 12  Delivery time     7991 non-null   float64       \n",
      " 13  Profit            7991 non-null   float64       \n",
      "dtypes: datetime64[ns](2), float64(5), int64(5), object(2)\n",
      "memory usage: 874.1+ KB\n"
     ]
    }
   ],
   "source": [
    "Supply_chain_data.info()"
   ]
  },
  {
   "cell_type": "code",
   "execution_count": null,
   "id": "67b74491",
   "metadata": {},
   "outputs": [],
   "source": []
  },
  {
   "cell_type": "code",
   "execution_count": 25,
   "id": "456b20e8",
   "metadata": {},
   "outputs": [
    {
     "data": {
      "text/plain": [
       "Index(['Sales Channel', 'WarehouseCode', 'OrderDate', 'DeliveryDate',\n",
       "       '_SalesTeamID', '_CustomerID', '_StoreID', '_ProductID',\n",
       "       'Order Quantity', 'Discount Applied', 'Unit Cost', 'Unit Price',\n",
       "       'Delivery time', 'Profit'],\n",
       "      dtype='object')"
      ]
     },
     "execution_count": 25,
     "metadata": {},
     "output_type": "execute_result"
    }
   ],
   "source": [
    "# Let's see the columns in the Dataset\n",
    "\n",
    "Supply_chain_data.columns"
   ]
  },
  {
   "cell_type": "code",
   "execution_count": null,
   "id": "edbb9c5f",
   "metadata": {},
   "outputs": [],
   "source": []
  },
  {
   "cell_type": "markdown",
   "id": "d1e97806",
   "metadata": {},
   "source": [
    "# Let's Get The Statistics of the Dataset"
   ]
  },
  {
   "cell_type": "code",
   "execution_count": 26,
   "id": "622f617d",
   "metadata": {},
   "outputs": [
    {
     "data": {
      "text/html": [
       "<div>\n",
       "<style scoped>\n",
       "    .dataframe tbody tr th:only-of-type {\n",
       "        vertical-align: middle;\n",
       "    }\n",
       "\n",
       "    .dataframe tbody tr th {\n",
       "        vertical-align: top;\n",
       "    }\n",
       "\n",
       "    .dataframe thead th {\n",
       "        text-align: right;\n",
       "    }\n",
       "</style>\n",
       "<table border=\"1\" class=\"dataframe\">\n",
       "  <thead>\n",
       "    <tr style=\"text-align: right;\">\n",
       "      <th></th>\n",
       "      <th>_SalesTeamID</th>\n",
       "      <th>_CustomerID</th>\n",
       "      <th>_StoreID</th>\n",
       "      <th>_ProductID</th>\n",
       "      <th>Order Quantity</th>\n",
       "      <th>Discount Applied</th>\n",
       "      <th>Unit Cost</th>\n",
       "      <th>Unit Price</th>\n",
       "      <th>Delivery time</th>\n",
       "      <th>Profit</th>\n",
       "    </tr>\n",
       "  </thead>\n",
       "  <tbody>\n",
       "    <tr>\n",
       "      <th>count</th>\n",
       "      <td>7991.000000</td>\n",
       "      <td>7991.000000</td>\n",
       "      <td>7991.000000</td>\n",
       "      <td>7991.000000</td>\n",
       "      <td>7991.000000</td>\n",
       "      <td>7991.000000</td>\n",
       "      <td>7991.000000</td>\n",
       "      <td>7991.000000</td>\n",
       "      <td>7991.000000</td>\n",
       "      <td>7991.000000</td>\n",
       "    </tr>\n",
       "    <tr>\n",
       "      <th>mean</th>\n",
       "      <td>14.384307</td>\n",
       "      <td>25.457014</td>\n",
       "      <td>183.850081</td>\n",
       "      <td>23.771743</td>\n",
       "      <td>4.525341</td>\n",
       "      <td>0.115649</td>\n",
       "      <td>1431.911513</td>\n",
       "      <td>2284.536504</td>\n",
       "      <td>87.839945</td>\n",
       "      <td>3863.563205</td>\n",
       "    </tr>\n",
       "    <tr>\n",
       "      <th>std</th>\n",
       "      <td>7.986086</td>\n",
       "      <td>14.414883</td>\n",
       "      <td>105.903946</td>\n",
       "      <td>13.526545</td>\n",
       "      <td>2.312631</td>\n",
       "      <td>0.085018</td>\n",
       "      <td>1112.413063</td>\n",
       "      <td>1673.096364</td>\n",
       "      <td>86.726965</td>\n",
       "      <td>4196.854403</td>\n",
       "    </tr>\n",
       "    <tr>\n",
       "      <th>min</th>\n",
       "      <td>1.000000</td>\n",
       "      <td>1.000000</td>\n",
       "      <td>1.000000</td>\n",
       "      <td>1.000000</td>\n",
       "      <td>1.000000</td>\n",
       "      <td>0.050000</td>\n",
       "      <td>68.680000</td>\n",
       "      <td>167.500000</td>\n",
       "      <td>1.000000</td>\n",
       "      <td>24.820000</td>\n",
       "    </tr>\n",
       "    <tr>\n",
       "      <th>25%</th>\n",
       "      <td>8.000000</td>\n",
       "      <td>13.000000</td>\n",
       "      <td>91.000000</td>\n",
       "      <td>12.000000</td>\n",
       "      <td>3.000000</td>\n",
       "      <td>0.050000</td>\n",
       "      <td>606.120000</td>\n",
       "      <td>1031.800000</td>\n",
       "      <td>24.000000</td>\n",
       "      <td>1013.410000</td>\n",
       "    </tr>\n",
       "    <tr>\n",
       "      <th>50%</th>\n",
       "      <td>14.000000</td>\n",
       "      <td>25.000000</td>\n",
       "      <td>183.000000</td>\n",
       "      <td>24.000000</td>\n",
       "      <td>5.000000</td>\n",
       "      <td>0.080000</td>\n",
       "      <td>1080.580000</td>\n",
       "      <td>1849.200000</td>\n",
       "      <td>42.000000</td>\n",
       "      <td>2398.300000</td>\n",
       "    </tr>\n",
       "    <tr>\n",
       "      <th>75%</th>\n",
       "      <td>21.000000</td>\n",
       "      <td>38.000000</td>\n",
       "      <td>276.000000</td>\n",
       "      <td>36.000000</td>\n",
       "      <td>7.000000</td>\n",
       "      <td>0.150000</td>\n",
       "      <td>2040.250000</td>\n",
       "      <td>3611.300000</td>\n",
       "      <td>138.000000</td>\n",
       "      <td>5094.035000</td>\n",
       "    </tr>\n",
       "    <tr>\n",
       "      <th>max</th>\n",
       "      <td>28.000000</td>\n",
       "      <td>50.000000</td>\n",
       "      <td>367.000000</td>\n",
       "      <td>47.000000</td>\n",
       "      <td>8.000000</td>\n",
       "      <td>0.400000</td>\n",
       "      <td>5498.560000</td>\n",
       "      <td>6566.000000</td>\n",
       "      <td>567.000000</td>\n",
       "      <td>30905.360000</td>\n",
       "    </tr>\n",
       "  </tbody>\n",
       "</table>\n",
       "</div>"
      ],
      "text/plain": [
       "       _SalesTeamID  _CustomerID     _StoreID   _ProductID  Order Quantity  \\\n",
       "count   7991.000000  7991.000000  7991.000000  7991.000000     7991.000000   \n",
       "mean      14.384307    25.457014   183.850081    23.771743        4.525341   \n",
       "std        7.986086    14.414883   105.903946    13.526545        2.312631   \n",
       "min        1.000000     1.000000     1.000000     1.000000        1.000000   \n",
       "25%        8.000000    13.000000    91.000000    12.000000        3.000000   \n",
       "50%       14.000000    25.000000   183.000000    24.000000        5.000000   \n",
       "75%       21.000000    38.000000   276.000000    36.000000        7.000000   \n",
       "max       28.000000    50.000000   367.000000    47.000000        8.000000   \n",
       "\n",
       "       Discount Applied    Unit Cost   Unit Price  Delivery time        Profit  \n",
       "count       7991.000000  7991.000000  7991.000000    7991.000000   7991.000000  \n",
       "mean           0.115649  1431.911513  2284.536504      87.839945   3863.563205  \n",
       "std            0.085018  1112.413063  1673.096364      86.726965   4196.854403  \n",
       "min            0.050000    68.680000   167.500000       1.000000     24.820000  \n",
       "25%            0.050000   606.120000  1031.800000      24.000000   1013.410000  \n",
       "50%            0.080000  1080.580000  1849.200000      42.000000   2398.300000  \n",
       "75%            0.150000  2040.250000  3611.300000     138.000000   5094.035000  \n",
       "max            0.400000  5498.560000  6566.000000     567.000000  30905.360000  "
      ]
     },
     "execution_count": 26,
     "metadata": {},
     "output_type": "execute_result"
    }
   ],
   "source": [
    "Supply_chain_data.describe()"
   ]
  },
  {
   "cell_type": "code",
   "execution_count": 27,
   "id": "4c6cb492",
   "metadata": {},
   "outputs": [
    {
     "data": {
      "text/html": [
       "<div>\n",
       "<style scoped>\n",
       "    .dataframe tbody tr th:only-of-type {\n",
       "        vertical-align: middle;\n",
       "    }\n",
       "\n",
       "    .dataframe tbody tr th {\n",
       "        vertical-align: top;\n",
       "    }\n",
       "\n",
       "    .dataframe thead th {\n",
       "        text-align: right;\n",
       "    }\n",
       "</style>\n",
       "<table border=\"1\" class=\"dataframe\">\n",
       "  <thead>\n",
       "    <tr style=\"text-align: right;\">\n",
       "      <th></th>\n",
       "      <th>Sales Channel</th>\n",
       "      <th>WarehouseCode</th>\n",
       "    </tr>\n",
       "  </thead>\n",
       "  <tbody>\n",
       "    <tr>\n",
       "      <th>count</th>\n",
       "      <td>7991</td>\n",
       "      <td>7991</td>\n",
       "    </tr>\n",
       "    <tr>\n",
       "      <th>unique</th>\n",
       "      <td>4</td>\n",
       "      <td>6</td>\n",
       "    </tr>\n",
       "    <tr>\n",
       "      <th>top</th>\n",
       "      <td>In-Store</td>\n",
       "      <td>WARE-NMK1003</td>\n",
       "    </tr>\n",
       "    <tr>\n",
       "      <th>freq</th>\n",
       "      <td>3298</td>\n",
       "      <td>2505</td>\n",
       "    </tr>\n",
       "  </tbody>\n",
       "</table>\n",
       "</div>"
      ],
      "text/plain": [
       "       Sales Channel WarehouseCode\n",
       "count           7991          7991\n",
       "unique             4             6\n",
       "top         In-Store  WARE-NMK1003\n",
       "freq            3298          2505"
      ]
     },
     "execution_count": 27,
     "metadata": {},
     "output_type": "execute_result"
    }
   ],
   "source": [
    "Supply_chain_data.describe(include='object')"
   ]
  },
  {
   "cell_type": "code",
   "execution_count": null,
   "id": "6e74eb1c",
   "metadata": {},
   "outputs": [],
   "source": []
  },
  {
   "cell_type": "markdown",
   "id": "b2018ffa",
   "metadata": {},
   "source": [
    "# Exploratory Data Analysis"
   ]
  },
  {
   "cell_type": "code",
   "execution_count": 28,
   "id": "8a6d7d44",
   "metadata": {},
   "outputs": [
    {
     "data": {
      "text/html": [
       "<div>\n",
       "<style scoped>\n",
       "    .dataframe tbody tr th:only-of-type {\n",
       "        vertical-align: middle;\n",
       "    }\n",
       "\n",
       "    .dataframe tbody tr th {\n",
       "        vertical-align: top;\n",
       "    }\n",
       "\n",
       "    .dataframe thead th {\n",
       "        text-align: right;\n",
       "    }\n",
       "</style>\n",
       "<table border=\"1\" class=\"dataframe\">\n",
       "  <thead>\n",
       "    <tr style=\"text-align: right;\">\n",
       "      <th></th>\n",
       "      <th>Sales Channel</th>\n",
       "      <th>WarehouseCode</th>\n",
       "      <th>OrderDate</th>\n",
       "      <th>DeliveryDate</th>\n",
       "      <th>_SalesTeamID</th>\n",
       "      <th>_CustomerID</th>\n",
       "      <th>_StoreID</th>\n",
       "      <th>_ProductID</th>\n",
       "      <th>Order Quantity</th>\n",
       "      <th>Discount Applied</th>\n",
       "      <th>Unit Cost</th>\n",
       "      <th>Unit Price</th>\n",
       "      <th>Delivery time</th>\n",
       "      <th>Profit</th>\n",
       "    </tr>\n",
       "  </thead>\n",
       "  <tbody>\n",
       "    <tr>\n",
       "      <th>0</th>\n",
       "      <td>In-Store</td>\n",
       "      <td>WARE-UHY1004</td>\n",
       "      <td>2018-05-31</td>\n",
       "      <td>2018-06-19</td>\n",
       "      <td>6</td>\n",
       "      <td>15</td>\n",
       "      <td>259</td>\n",
       "      <td>12</td>\n",
       "      <td>5</td>\n",
       "      <td>0.08</td>\n",
       "      <td>1001.18</td>\n",
       "      <td>1963.1</td>\n",
       "      <td>19.0</td>\n",
       "      <td>4809.52</td>\n",
       "    </tr>\n",
       "  </tbody>\n",
       "</table>\n",
       "</div>"
      ],
      "text/plain": [
       "  Sales Channel WarehouseCode  OrderDate DeliveryDate  _SalesTeamID  \\\n",
       "0      In-Store  WARE-UHY1004 2018-05-31   2018-06-19             6   \n",
       "\n",
       "   _CustomerID  _StoreID  _ProductID  Order Quantity  Discount Applied  \\\n",
       "0           15       259          12               5              0.08   \n",
       "\n",
       "   Unit Cost  Unit Price  Delivery time   Profit  \n",
       "0    1001.18      1963.1           19.0  4809.52  "
      ]
     },
     "execution_count": 28,
     "metadata": {},
     "output_type": "execute_result"
    }
   ],
   "source": [
    "Supply_chain_data.head(1)"
   ]
  },
  {
   "cell_type": "code",
   "execution_count": null,
   "id": "6d7033cd",
   "metadata": {},
   "outputs": [],
   "source": []
  },
  {
   "cell_type": "markdown",
   "id": "929aca0f",
   "metadata": {},
   "source": [
    "# Different Sales Channel"
   ]
  },
  {
   "cell_type": "code",
   "execution_count": 29,
   "id": "da4f43aa",
   "metadata": {},
   "outputs": [
    {
     "data": {
      "text/plain": [
       "array(['In-Store', 'Online', 'Distributor', 'Wholesale'], dtype=object)"
      ]
     },
     "execution_count": 29,
     "metadata": {},
     "output_type": "execute_result"
    }
   ],
   "source": [
    "# let’s have a look at the distribution of the Sales Channel column\n",
    "\n",
    "Supply_chain_data['Sales Channel'].unique()"
   ]
  },
  {
   "cell_type": "code",
   "execution_count": 30,
   "id": "efc2bac6",
   "metadata": {},
   "outputs": [
    {
     "data": {
      "image/png": "[encoded data removed]",
      "text/plain": [
       "<Figure size 864x576 with 1 Axes>"
      ]
     },
     "metadata": {
      "needs_background": "light"
     },
     "output_type": "display_data"
    }
   ],
   "source": [
    "# # Let's Visualize the Sales Channel column\n",
    "\n",
    "plt.figure(figsize=(12, 8))\n",
    "ax = sns.countplot(x='Sales Channel', data=Supply_chain_data)\n",
    "plt.xlabel('Sales Channel', fontsize=15)\n",
    "plt.ylabel('Count', fontsize=15)\n",
    "plt.title('Sales Channel Distribution', fontsize=20)\n",
    "\n",
    "# Annotate the count values on the bars\n",
    "for bar in ax.patches:\n",
    "    ax.annotate(format(bar.get_height()), (bar.get_x() + bar.get_width() / 2, bar.get_height()),\n",
    "                ha='center', va='center', size=12, xytext=(0, 8), textcoords='offset points')\n",
    "\n",
    "plt.show()"
   ]
  },
  {
   "cell_type": "markdown",
   "id": "b81d334c",
   "metadata": {},
   "source": [
    "### In-Store has the highest sales channel with 3298.\n",
    "### Online with 2425.\n",
    "### Distributor with 1375.\n",
    "### Wholesale with 893."
   ]
  },
  {
   "cell_type": "code",
   "execution_count": null,
   "id": "9516c828",
   "metadata": {},
   "outputs": [],
   "source": []
  },
  {
   "cell_type": "markdown",
   "id": "0269164f",
   "metadata": {},
   "source": [
    "# Total Profit Generated Per Sales Channel"
   ]
  },
  {
   "cell_type": "code",
   "execution_count": 31,
   "id": "fde9f3fe",
   "metadata": {},
   "outputs": [
    {
     "data": {
      "text/html": [
       "<div>\n",
       "<style scoped>\n",
       "    .dataframe tbody tr th:only-of-type {\n",
       "        vertical-align: middle;\n",
       "    }\n",
       "\n",
       "    .dataframe tbody tr th {\n",
       "        vertical-align: top;\n",
       "    }\n",
       "\n",
       "    .dataframe thead th {\n",
       "        text-align: right;\n",
       "    }\n",
       "</style>\n",
       "<table border=\"1\" class=\"dataframe\">\n",
       "  <thead>\n",
       "    <tr style=\"text-align: right;\">\n",
       "      <th></th>\n",
       "      <th>Sales Channel</th>\n",
       "      <th>Profit</th>\n",
       "    </tr>\n",
       "  </thead>\n",
       "  <tbody>\n",
       "    <tr>\n",
       "      <th>1</th>\n",
       "      <td>In-Store</td>\n",
       "      <td>12734682.78</td>\n",
       "    </tr>\n",
       "    <tr>\n",
       "      <th>2</th>\n",
       "      <td>Online</td>\n",
       "      <td>9097727.56</td>\n",
       "    </tr>\n",
       "    <tr>\n",
       "      <th>0</th>\n",
       "      <td>Distributor</td>\n",
       "      <td>5528500.52</td>\n",
       "    </tr>\n",
       "    <tr>\n",
       "      <th>3</th>\n",
       "      <td>Wholesale</td>\n",
       "      <td>3512822.71</td>\n",
       "    </tr>\n",
       "  </tbody>\n",
       "</table>\n",
       "</div>"
      ],
      "text/plain": [
       "  Sales Channel       Profit\n",
       "1      In-Store  12734682.78\n",
       "2        Online   9097727.56\n",
       "0   Distributor   5528500.52\n",
       "3     Wholesale   3512822.71"
      ]
     },
     "execution_count": 31,
     "metadata": {},
     "output_type": "execute_result"
    }
   ],
   "source": [
    "# Total Profit Generated per Sales Channel\n",
    "\n",
    "channel=Supply_chain_data.groupby('Sales Channel')['Profit'].sum().reset_index();\n",
    "channel=channel.sort_values(by='Profit',ascending=False)\n",
    "channel"
   ]
  },
  {
   "cell_type": "code",
   "execution_count": 32,
   "id": "eab40c9d",
   "metadata": {},
   "outputs": [
    {
     "data": {
      "image/png": "[encoded data removed]",
      "text/plain": [
       "<Figure size 864x576 with 1 Axes>"
      ]
     },
     "metadata": {},
     "output_type": "display_data"
    }
   ],
   "source": [
    "# Assuming you have already calculated 'channel' as you mentioned\n",
    "labels = channel['Sales Channel']\n",
    "profits = channel['Profit']\n",
    "\n",
    "# Create a pie chart\n",
    "plt.figure(figsize=(12, 8))\n",
    "plt.pie(profits, labels=labels, autopct='%1.1f%%', startangle=140)\n",
    "\n",
    "# Add a title\n",
    "plt.title('Total Profit Generated Per Sales Channel', fontsize = 20)\n",
    "\n",
    "# Display the pie chart\n",
    "plt.axis('equal')\n",
    "plt.show()"
   ]
  },
  {
   "cell_type": "markdown",
   "id": "e958e36b",
   "metadata": {},
   "source": [
    "### 41% of the Total Profit is In-store sale channel While 11% of the Total Profit is Wholesale sales channel."
   ]
  },
  {
   "cell_type": "code",
   "execution_count": null,
   "id": "16befd74",
   "metadata": {},
   "outputs": [],
   "source": []
  },
  {
   "cell_type": "markdown",
   "id": "2fefa8e9",
   "metadata": {},
   "source": [
    "# Average Profit Generated Per Sales Channel"
   ]
  },
  {
   "cell_type": "code",
   "execution_count": 33,
   "id": "83ca625f",
   "metadata": {},
   "outputs": [
    {
     "data": {
      "text/html": [
       "<div>\n",
       "<style scoped>\n",
       "    .dataframe tbody tr th:only-of-type {\n",
       "        vertical-align: middle;\n",
       "    }\n",
       "\n",
       "    .dataframe tbody tr th {\n",
       "        vertical-align: top;\n",
       "    }\n",
       "\n",
       "    .dataframe thead th {\n",
       "        text-align: right;\n",
       "    }\n",
       "</style>\n",
       "<table border=\"1\" class=\"dataframe\">\n",
       "  <thead>\n",
       "    <tr style=\"text-align: right;\">\n",
       "      <th></th>\n",
       "      <th>Sales Channel</th>\n",
       "      <th>Profit</th>\n",
       "    </tr>\n",
       "  </thead>\n",
       "  <tbody>\n",
       "    <tr>\n",
       "      <th>0</th>\n",
       "      <td>Distributor</td>\n",
       "      <td>4020.727651</td>\n",
       "    </tr>\n",
       "    <tr>\n",
       "      <th>3</th>\n",
       "      <td>Wholesale</td>\n",
       "      <td>3933.732038</td>\n",
       "    </tr>\n",
       "    <tr>\n",
       "      <th>1</th>\n",
       "      <td>In-Store</td>\n",
       "      <td>3861.334985</td>\n",
       "    </tr>\n",
       "    <tr>\n",
       "      <th>2</th>\n",
       "      <td>Online</td>\n",
       "      <td>3751.640231</td>\n",
       "    </tr>\n",
       "  </tbody>\n",
       "</table>\n",
       "</div>"
      ],
      "text/plain": [
       "  Sales Channel       Profit\n",
       "0   Distributor  4020.727651\n",
       "3     Wholesale  3933.732038\n",
       "1      In-Store  3861.334985\n",
       "2        Online  3751.640231"
      ]
     },
     "execution_count": 33,
     "metadata": {},
     "output_type": "execute_result"
    }
   ],
   "source": [
    "# let the Average Profit generated per Sales Channel\n",
    "\n",
    "channel_avg=Supply_chain_data.groupby('Sales Channel')['Profit'].mean().reset_index();\n",
    "channel_avg=channel_avg.sort_values(by='Profit',ascending=False)\n",
    "channel_avg"
   ]
  },
  {
   "cell_type": "code",
   "execution_count": 34,
   "id": "7bfa637f",
   "metadata": {},
   "outputs": [
    {
     "data": {
      "image/png": "[encoded data removed]",
      "text/plain": [
       "<Figure size 864x576 with 1 Axes>"
      ]
     },
     "metadata": {},
     "output_type": "display_data"
    }
   ],
   "source": [
    "# Let's view this data.\n",
    "\n",
    "plt.figure(figsize=(12, 8))\n",
    "plt.pie(channel_avg['Profit'], labels=channel_avg['Sales Channel'], autopct='%1.1f%%', startangle=140)\n",
    "plt.title('Average Profit Per Sales Channel', fontsize=20)\n",
    "plt.axis('equal') \n",
    "\n",
    "# Show the pie chart\n",
    "plt.show()"
   ]
  },
  {
   "cell_type": "markdown",
   "id": "8f1e221d",
   "metadata": {},
   "source": [
    "### 26% of the average profit from the Distributor sales chancel while 24% of the average profit is from the online sales channel."
   ]
  },
  {
   "cell_type": "code",
   "execution_count": null,
   "id": "be503e49",
   "metadata": {},
   "outputs": [],
   "source": []
  },
  {
   "cell_type": "markdown",
   "id": "f4c90f11",
   "metadata": {},
   "source": [
    "# Average Delivery Time from Each Sales Channel"
   ]
  },
  {
   "cell_type": "code",
   "execution_count": 35,
   "id": "dde168f8",
   "metadata": {},
   "outputs": [
    {
     "data": {
      "text/html": [
       "<div>\n",
       "<style scoped>\n",
       "    .dataframe tbody tr th:only-of-type {\n",
       "        vertical-align: middle;\n",
       "    }\n",
       "\n",
       "    .dataframe tbody tr th {\n",
       "        vertical-align: top;\n",
       "    }\n",
       "\n",
       "    .dataframe thead th {\n",
       "        text-align: right;\n",
       "    }\n",
       "</style>\n",
       "<table border=\"1\" class=\"dataframe\">\n",
       "  <thead>\n",
       "    <tr style=\"text-align: right;\">\n",
       "      <th></th>\n",
       "      <th>Sales Channel</th>\n",
       "      <th>Delivery time</th>\n",
       "    </tr>\n",
       "  </thead>\n",
       "  <tbody>\n",
       "    <tr>\n",
       "      <th>2</th>\n",
       "      <td>Online</td>\n",
       "      <td>90.611546</td>\n",
       "    </tr>\n",
       "    <tr>\n",
       "      <th>1</th>\n",
       "      <td>In-Store</td>\n",
       "      <td>86.943905</td>\n",
       "    </tr>\n",
       "    <tr>\n",
       "      <th>3</th>\n",
       "      <td>Wholesale</td>\n",
       "      <td>86.937290</td>\n",
       "    </tr>\n",
       "    <tr>\n",
       "      <th>0</th>\n",
       "      <td>Distributor</td>\n",
       "      <td>85.687273</td>\n",
       "    </tr>\n",
       "  </tbody>\n",
       "</table>\n",
       "</div>"
      ],
      "text/plain": [
       "  Sales Channel  Delivery time\n",
       "2        Online      90.611546\n",
       "1      In-Store      86.943905\n",
       "3     Wholesale      86.937290\n",
       "0   Distributor      85.687273"
      ]
     },
     "execution_count": 35,
     "metadata": {},
     "output_type": "execute_result"
    }
   ],
   "source": [
    "# Let's get the Average Delivery Time From each Sales Channel\n",
    "\n",
    "channel_delivery_time = Supply_chain_data.groupby('Sales Channel')['Delivery time'].mean().reset_index();\n",
    "channel_delivery_time = channel_delivery_time.sort_values(by='Delivery time',ascending=False)\n",
    "channel_delivery_time"
   ]
  },
  {
   "cell_type": "code",
   "execution_count": 36,
   "id": "bdb9b485",
   "metadata": {},
   "outputs": [
    {
     "data": {
      "image/png": "[encoded data removed]",
      "text/plain": [
       "<Figure size 864x576 with 1 Axes>"
      ]
     },
     "metadata": {
      "needs_background": "light"
     },
     "output_type": "display_data"
    }
   ],
   "source": [
    "# Let's visualize this data\n",
    "\n",
    "plt.figure(figsize=(12, 8))\n",
    "plt.bar(channel_delivery_time['Sales Channel'], channel_delivery_time['Delivery time'])\n",
    "plt.xlabel('Sales Channel')\n",
    "plt.ylabel('Average Delivery Time')\n",
    "plt.title('Average Delivery Time by Sales Channel', fontsize=20)\n",
    "plt.xticks(rotation=45, ha='right')\n",
    "plt.tight_layout()\n",
    "\n",
    "# Show the chart\n",
    "plt.show()"
   ]
  },
  {
   "cell_type": "markdown",
   "id": "6ab218aa",
   "metadata": {},
   "source": [
    "### The highest average delivery time by sales channel is from Online."
   ]
  },
  {
   "cell_type": "code",
   "execution_count": null,
   "id": "650388a4",
   "metadata": {},
   "outputs": [],
   "source": []
  },
  {
   "cell_type": "markdown",
   "id": "96a25011",
   "metadata": {},
   "source": [
    "# Different WareCode"
   ]
  },
  {
   "cell_type": "code",
   "execution_count": 37,
   "id": "80653763",
   "metadata": {},
   "outputs": [
    {
     "data": {
      "text/html": [
       "<div>\n",
       "<style scoped>\n",
       "    .dataframe tbody tr th:only-of-type {\n",
       "        vertical-align: middle;\n",
       "    }\n",
       "\n",
       "    .dataframe tbody tr th {\n",
       "        vertical-align: top;\n",
       "    }\n",
       "\n",
       "    .dataframe thead th {\n",
       "        text-align: right;\n",
       "    }\n",
       "</style>\n",
       "<table border=\"1\" class=\"dataframe\">\n",
       "  <thead>\n",
       "    <tr style=\"text-align: right;\">\n",
       "      <th></th>\n",
       "      <th>Sales Channel</th>\n",
       "      <th>WarehouseCode</th>\n",
       "      <th>OrderDate</th>\n",
       "      <th>DeliveryDate</th>\n",
       "      <th>_SalesTeamID</th>\n",
       "      <th>_CustomerID</th>\n",
       "      <th>_StoreID</th>\n",
       "      <th>_ProductID</th>\n",
       "      <th>Order Quantity</th>\n",
       "      <th>Discount Applied</th>\n",
       "      <th>Unit Cost</th>\n",
       "      <th>Unit Price</th>\n",
       "      <th>Delivery time</th>\n",
       "      <th>Profit</th>\n",
       "    </tr>\n",
       "  </thead>\n",
       "  <tbody>\n",
       "    <tr>\n",
       "      <th>0</th>\n",
       "      <td>In-Store</td>\n",
       "      <td>WARE-UHY1004</td>\n",
       "      <td>2018-05-31</td>\n",
       "      <td>2018-06-19</td>\n",
       "      <td>6</td>\n",
       "      <td>15</td>\n",
       "      <td>259</td>\n",
       "      <td>12</td>\n",
       "      <td>5</td>\n",
       "      <td>0.08</td>\n",
       "      <td>1001.18</td>\n",
       "      <td>1963.1</td>\n",
       "      <td>19.0</td>\n",
       "      <td>4809.52</td>\n",
       "    </tr>\n",
       "  </tbody>\n",
       "</table>\n",
       "</div>"
      ],
      "text/plain": [
       "  Sales Channel WarehouseCode  OrderDate DeliveryDate  _SalesTeamID  \\\n",
       "0      In-Store  WARE-UHY1004 2018-05-31   2018-06-19             6   \n",
       "\n",
       "   _CustomerID  _StoreID  _ProductID  Order Quantity  Discount Applied  \\\n",
       "0           15       259          12               5              0.08   \n",
       "\n",
       "   Unit Cost  Unit Price  Delivery time   Profit  \n",
       "0    1001.18      1963.1           19.0  4809.52  "
      ]
     },
     "execution_count": 37,
     "metadata": {},
     "output_type": "execute_result"
    }
   ],
   "source": [
    "Supply_chain_data.head(1)"
   ]
  },
  {
   "cell_type": "code",
   "execution_count": null,
   "id": "aeda42d6",
   "metadata": {},
   "outputs": [],
   "source": []
  },
  {
   "cell_type": "code",
   "execution_count": 38,
   "id": "390fb3f6",
   "metadata": {},
   "outputs": [
    {
     "data": {
      "text/plain": [
       "6"
      ]
     },
     "execution_count": 38,
     "metadata": {},
     "output_type": "execute_result"
    }
   ],
   "source": [
    "Supply_chain_data['WarehouseCode'].nunique()"
   ]
  },
  {
   "cell_type": "markdown",
   "id": "610d95f6",
   "metadata": {},
   "source": [
    "### There are 6 different warehouses in our dataset."
   ]
  },
  {
   "cell_type": "code",
   "execution_count": 39,
   "id": "24bd326c",
   "metadata": {},
   "outputs": [
    {
     "data": {
      "image/png": "[encoded data removed]",
      "text/plain": [
       "<Figure size 864x576 with 1 Axes>"
      ]
     },
     "metadata": {
      "needs_background": "light"
     },
     "output_type": "display_data"
    }
   ],
   "source": [
    "# # Let's Visualize this data\n",
    "\n",
    "plt.figure(figsize=(12, 8))\n",
    "ax = sns.countplot(x='WarehouseCode', data=Supply_chain_data)\n",
    "plt.xlabel('WarehouseCode', fontsize=15)\n",
    "plt.ylabel('Count', fontsize=15)\n",
    "plt.title('Number of Orders Fulfilled from Different Warehouse', fontsize=20)\n",
    "plt.xticks(rotation=45)\n",
    "\n",
    "# Annotate the count values on the bars\n",
    "for bar in ax.patches:\n",
    "    ax.annotate(format(bar.get_height()), (bar.get_x() + bar.get_width() / 2, bar.get_height()),\n",
    "                ha='center', va='center', size=12, xytext=(0, 8), textcoords='offset points')\n",
    "\n",
    "plt.show()"
   ]
  },
  {
   "cell_type": "markdown",
   "id": "a604c650",
   "metadata": {},
   "source": [
    "### WARE-NMK1003 has the highest number of orders (2505) while WARE-NBV1002 has the lowest number of orders (691)."
   ]
  },
  {
   "cell_type": "code",
   "execution_count": null,
   "id": "904bd174",
   "metadata": {},
   "outputs": [],
   "source": []
  },
  {
   "cell_type": "markdown",
   "id": "aef9fd0f",
   "metadata": {},
   "source": [
    "# Total Profit Generated From Each Warehouse"
   ]
  },
  {
   "cell_type": "code",
   "execution_count": 40,
   "id": "6c7382e5",
   "metadata": {},
   "outputs": [
    {
     "data": {
      "text/html": [
       "<div>\n",
       "<style scoped>\n",
       "    .dataframe tbody tr th:only-of-type {\n",
       "        vertical-align: middle;\n",
       "    }\n",
       "\n",
       "    .dataframe tbody tr th {\n",
       "        vertical-align: top;\n",
       "    }\n",
       "\n",
       "    .dataframe thead th {\n",
       "        text-align: right;\n",
       "    }\n",
       "</style>\n",
       "<table border=\"1\" class=\"dataframe\">\n",
       "  <thead>\n",
       "    <tr style=\"text-align: right;\">\n",
       "      <th></th>\n",
       "      <th>WarehouseCode</th>\n",
       "      <th>Profit</th>\n",
       "    </tr>\n",
       "  </thead>\n",
       "  <tbody>\n",
       "    <tr>\n",
       "      <th>2</th>\n",
       "      <td>WARE-NMK1003</td>\n",
       "      <td>9752551.97</td>\n",
       "    </tr>\n",
       "    <tr>\n",
       "      <th>3</th>\n",
       "      <td>WARE-PUJ1005</td>\n",
       "      <td>5606306.60</td>\n",
       "    </tr>\n",
       "    <tr>\n",
       "      <th>4</th>\n",
       "      <td>WARE-UHY1004</td>\n",
       "      <td>4986857.90</td>\n",
       "    </tr>\n",
       "    <tr>\n",
       "      <th>5</th>\n",
       "      <td>WARE-XYS1001</td>\n",
       "      <td>4653343.27</td>\n",
       "    </tr>\n",
       "    <tr>\n",
       "      <th>0</th>\n",
       "      <td>WARE-MKL1006</td>\n",
       "      <td>3271175.31</td>\n",
       "    </tr>\n",
       "    <tr>\n",
       "      <th>1</th>\n",
       "      <td>WARE-NBV1002</td>\n",
       "      <td>2603498.52</td>\n",
       "    </tr>\n",
       "  </tbody>\n",
       "</table>\n",
       "</div>"
      ],
      "text/plain": [
       "  WarehouseCode      Profit\n",
       "2  WARE-NMK1003  9752551.97\n",
       "3  WARE-PUJ1005  5606306.60\n",
       "4  WARE-UHY1004  4986857.90\n",
       "5  WARE-XYS1001  4653343.27\n",
       "0  WARE-MKL1006  3271175.31\n",
       "1  WARE-NBV1002  2603498.52"
      ]
     },
     "execution_count": 40,
     "metadata": {},
     "output_type": "execute_result"
    }
   ],
   "source": [
    "# Let's check the Total Profit generated from each Warehouse\n",
    "\n",
    "warehouse = Supply_chain_data.groupby('WarehouseCode')['Profit'].sum().reset_index();\n",
    "warehouse = warehouse.sort_values(by='Profit',ascending=False)\n",
    "warehouse"
   ]
  },
  {
   "cell_type": "code",
   "execution_count": 41,
   "id": "adf078ae",
   "metadata": {},
   "outputs": [
    {
     "data": {
      "image/png": "[encoded data removed]",
      "text/plain": [
       "<Figure size 864x576 with 1 Axes>"
      ]
     },
     "metadata": {},
     "output_type": "display_data"
    }
   ],
   "source": [
    "# Let's visualize this data\n",
    "\n",
    "plt.figure(figsize=(12, 8))\n",
    "plt.pie(warehouse['Profit'], labels=warehouse['WarehouseCode'], autopct='%1.1f%%', startangle=140)\n",
    "plt.title('Total Profit by Warehouse', fontsize = 20)\n",
    "plt.axis('equal')\n",
    "\n",
    "plt.show()"
   ]
  },
  {
   "cell_type": "markdown",
   "id": "ed95f4d3",
   "metadata": {},
   "source": [
    "### 37% of the total profit is from WARE-NMK1003 with total profit of $9,752,551.97\n"
   ]
  },
  {
   "cell_type": "code",
   "execution_count": null,
   "id": "607a2548",
   "metadata": {},
   "outputs": [],
   "source": []
  },
  {
   "cell_type": "markdown",
   "id": "2e62c90c",
   "metadata": {},
   "source": [
    "# Average Profit Generated from Each Warehouse"
   ]
  },
  {
   "cell_type": "code",
   "execution_count": 42,
   "id": "04d953f3",
   "metadata": {},
   "outputs": [
    {
     "data": {
      "text/html": [
       "<div>\n",
       "<style scoped>\n",
       "    .dataframe tbody tr th:only-of-type {\n",
       "        vertical-align: middle;\n",
       "    }\n",
       "\n",
       "    .dataframe tbody tr th {\n",
       "        vertical-align: top;\n",
       "    }\n",
       "\n",
       "    .dataframe thead th {\n",
       "        text-align: right;\n",
       "    }\n",
       "</style>\n",
       "<table border=\"1\" class=\"dataframe\">\n",
       "  <thead>\n",
       "    <tr style=\"text-align: right;\">\n",
       "      <th></th>\n",
       "      <th>WarehouseCode</th>\n",
       "      <th>Profit</th>\n",
       "    </tr>\n",
       "  </thead>\n",
       "  <tbody>\n",
       "    <tr>\n",
       "      <th>4</th>\n",
       "      <td>WARE-UHY1004</td>\n",
       "      <td>3942.180158</td>\n",
       "    </tr>\n",
       "    <tr>\n",
       "      <th>2</th>\n",
       "      <td>WARE-NMK1003</td>\n",
       "      <td>3893.234319</td>\n",
       "    </tr>\n",
       "    <tr>\n",
       "      <th>3</th>\n",
       "      <td>WARE-PUJ1005</td>\n",
       "      <td>3863.753687</td>\n",
       "    </tr>\n",
       "    <tr>\n",
       "      <th>0</th>\n",
       "      <td>WARE-MKL1006</td>\n",
       "      <td>3817.007363</td>\n",
       "    </tr>\n",
       "    <tr>\n",
       "      <th>5</th>\n",
       "      <td>WARE-XYS1001</td>\n",
       "      <td>3807.973216</td>\n",
       "    </tr>\n",
       "    <tr>\n",
       "      <th>1</th>\n",
       "      <td>WARE-NBV1002</td>\n",
       "      <td>3767.725789</td>\n",
       "    </tr>\n",
       "  </tbody>\n",
       "</table>\n",
       "</div>"
      ],
      "text/plain": [
       "  WarehouseCode       Profit\n",
       "4  WARE-UHY1004  3942.180158\n",
       "2  WARE-NMK1003  3893.234319\n",
       "3  WARE-PUJ1005  3863.753687\n",
       "0  WARE-MKL1006  3817.007363\n",
       "5  WARE-XYS1001  3807.973216\n",
       "1  WARE-NBV1002  3767.725789"
      ]
     },
     "execution_count": 42,
     "metadata": {},
     "output_type": "execute_result"
    }
   ],
   "source": [
    "# Let check for the Average Profit generated from each Warehouse\n",
    "\n",
    "warehouse_avg = Supply_chain_data.groupby('WarehouseCode')['Profit'].mean().reset_index();\n",
    "warehouse_avg = warehouse_avg.sort_values(by='Profit',ascending=False)\n",
    "warehouse_avg"
   ]
  },
  {
   "cell_type": "code",
   "execution_count": 43,
   "id": "78799527",
   "metadata": {},
   "outputs": [
    {
     "data": {
      "image/png": "[encoded data removed]",
      "text/plain": [
       "<Figure size 864x576 with 1 Axes>"
      ]
     },
     "metadata": {},
     "output_type": "display_data"
    }
   ],
   "source": [
    "# Let's visualize this data\n",
    "\n",
    "plt.figure(figsize=(12, 8))\n",
    "plt.pie(warehouse_avg['Profit'], labels=warehouse_avg['WarehouseCode'], autopct='%1.1f%%', startangle=140)\n",
    "plt.title('Average Profit by Warehouse', fontsize = 20)\n",
    "plt.axis('equal')\n",
    "\n",
    "plt.show()"
   ]
  },
  {
   "cell_type": "markdown",
   "id": "ef55f6a0",
   "metadata": {},
   "source": [
    "### The Average Profit by each warehouse are within the same range."
   ]
  },
  {
   "cell_type": "code",
   "execution_count": null,
   "id": "d2b62074",
   "metadata": {},
   "outputs": [],
   "source": []
  },
  {
   "cell_type": "markdown",
   "id": "803840d5",
   "metadata": {},
   "source": [
    "# Average Delivery Time from each Warehouse"
   ]
  },
  {
   "cell_type": "code",
   "execution_count": 44,
   "id": "95b4c061",
   "metadata": {},
   "outputs": [
    {
     "data": {
      "text/html": [
       "<div>\n",
       "<style scoped>\n",
       "    .dataframe tbody tr th:only-of-type {\n",
       "        vertical-align: middle;\n",
       "    }\n",
       "\n",
       "    .dataframe tbody tr th {\n",
       "        vertical-align: top;\n",
       "    }\n",
       "\n",
       "    .dataframe thead th {\n",
       "        text-align: right;\n",
       "    }\n",
       "</style>\n",
       "<table border=\"1\" class=\"dataframe\">\n",
       "  <thead>\n",
       "    <tr style=\"text-align: right;\">\n",
       "      <th></th>\n",
       "      <th>WarehouseCode</th>\n",
       "      <th>Delivery time</th>\n",
       "    </tr>\n",
       "  </thead>\n",
       "  <tbody>\n",
       "    <tr>\n",
       "      <th>3</th>\n",
       "      <td>WARE-PUJ1005</td>\n",
       "      <td>93.424535</td>\n",
       "    </tr>\n",
       "    <tr>\n",
       "      <th>5</th>\n",
       "      <td>WARE-XYS1001</td>\n",
       "      <td>88.761047</td>\n",
       "    </tr>\n",
       "    <tr>\n",
       "      <th>4</th>\n",
       "      <td>WARE-UHY1004</td>\n",
       "      <td>86.987352</td>\n",
       "    </tr>\n",
       "    <tr>\n",
       "      <th>2</th>\n",
       "      <td>WARE-NMK1003</td>\n",
       "      <td>86.847106</td>\n",
       "    </tr>\n",
       "    <tr>\n",
       "      <th>1</th>\n",
       "      <td>WARE-NBV1002</td>\n",
       "      <td>84.897250</td>\n",
       "    </tr>\n",
       "    <tr>\n",
       "      <th>0</th>\n",
       "      <td>WARE-MKL1006</td>\n",
       "      <td>83.604434</td>\n",
       "    </tr>\n",
       "  </tbody>\n",
       "</table>\n",
       "</div>"
      ],
      "text/plain": [
       "  WarehouseCode  Delivery time\n",
       "3  WARE-PUJ1005      93.424535\n",
       "5  WARE-XYS1001      88.761047\n",
       "4  WARE-UHY1004      86.987352\n",
       "2  WARE-NMK1003      86.847106\n",
       "1  WARE-NBV1002      84.897250\n",
       "0  WARE-MKL1006      83.604434"
      ]
     },
     "execution_count": 44,
     "metadata": {},
     "output_type": "execute_result"
    }
   ],
   "source": [
    "# Let's check the Average Delivery Time from each Warehouse\n",
    "\n",
    "warehouse_delivery_time = Supply_chain_data.groupby('WarehouseCode')['Delivery time'].mean().reset_index();\n",
    "warehouse_delivery_time =warehouse_delivery_time.sort_values(by='Delivery time',ascending=False)\n",
    "warehouse_delivery_time"
   ]
  },
  {
   "cell_type": "code",
   "execution_count": 45,
   "id": "ef96be10",
   "metadata": {},
   "outputs": [
    {
     "data": {
      "image/png": "[encoded data removed]",
      "text/plain": [
       "<Figure size 864x576 with 1 Axes>"
      ]
     },
     "metadata": {
      "needs_background": "light"
     },
     "output_type": "display_data"
    }
   ],
   "source": [
    "# Create a bar chart\n",
    "plt.figure(figsize=(12, 8))\n",
    "\n",
    "# Set the data for the bar chart\n",
    "plt.bar(warehouse_delivery_time['WarehouseCode'], warehouse_delivery_time['Delivery time'])\n",
    "\n",
    "# Add labels and title\n",
    "plt.xlabel('Warehouse Code')\n",
    "plt.ylabel('Average Delivery Time')\n",
    "plt.title('Average Delivery Time by Warehouse', fontsize = 20)\n",
    "\n",
    "# Rotate x-axis labels for better readability (optional)\n",
    "plt.xticks(rotation=45)\n",
    "\n",
    "# Show the plot\n",
    "plt.show()"
   ]
  },
  {
   "cell_type": "markdown",
   "id": "45d76881",
   "metadata": {},
   "source": [
    "### WARE-PUJ1005 has the highest average delivery time while WARE-MKL1006 has the lowest average delivery time from each warehouse."
   ]
  },
  {
   "cell_type": "code",
   "execution_count": null,
   "id": "560b5f1b",
   "metadata": {},
   "outputs": [],
   "source": []
  },
  {
   "cell_type": "markdown",
   "id": "fc969422",
   "metadata": {},
   "source": [
    "# Findings."
   ]
  },
  {
   "cell_type": "markdown",
   "id": "bc1ac16e",
   "metadata": {},
   "source": [
    "### In-Store has the highest sales channel with 3298.\n",
    "\n",
    "### Online with 2425.\n",
    "\n",
    "### Distributor with 1375.\n",
    "\n",
    "### Wholesale with 893.\n",
    "\n",
    "### 41% of the Total Profit is In-store sale channel While 11% of the Total Profit is Wholesale sales channel.\n",
    "\n",
    "### 26% of the average profit from the Distributor sales chancel while 24% of the average profit is from the online sales channel.\n",
    "\n",
    "### The highest average delivery time by sales channel is from Online.\n",
    "\n",
    "### There are 6 different warehouses in our dataset.\n",
    "\n",
    "### WARE-NMK1003 has the highest number of orders (2505) while WARE-NBV1002 has the lowest number of orders (691).\n",
    "\n",
    "### The Average Profit by each warehouse are within the same range.\n",
    "\n",
    "### WARE-PUJ1005 has the highest average delivery time while WARE-MKL1006 has the lowest average delivery time from each warehouse.\n",
    "\n",
    "### 37% of the total profit is from WARE-NMK1003 with total profit of $9,752,551.97\n",
    "\n"
   ]
  },
  {
   "cell_type": "code",
   "execution_count": null,
   "id": "7fd42789",
   "metadata": {},
   "outputs": [],
   "source": []
  },
  {
   "cell_type": "markdown",
   "id": "aa5bde43",
   "metadata": {},
   "source": [
    "# Recommendations"
   ]
  },
  {
   "cell_type": "markdown",
   "id": "9ce9e86f",
   "metadata": {},
   "source": [
    "### 1. Identify areas with high operational costs and develop cost saving strategies such as optimizing routes of delivery or reducing unnecessary warehousing costs."
   ]
  },
  {
   "cell_type": "markdown",
   "id": "5d3903e6",
   "metadata": {},
   "source": [
    "### 2. The performance of different warehouses should be assessed based on metrics like order fulfillment time, shipping accuracy and cost."
   ]
  },
  {
   "cell_type": "markdown",
   "id": "3e258e16",
   "metadata": {},
   "source": [
    "### 3. The delivery date and customer complaints data should be mentioned to identify quality issues."
   ]
  },
  {
   "cell_type": "markdown",
   "id": "9d63ec65",
   "metadata": {},
   "source": [
    "### Evaluate the performance of different sales channels. Redirect resources or marketing efforts to the most profitable channels."
   ]
  },
  {
   "cell_type": "code",
   "execution_count": null,
   "id": "1e357910",
   "metadata": {},
   "outputs": [],
   "source": []
  }
 ],
 "metadata": {
  "kernelspec": {
   "display_name": "Python 3 (ipykernel)",
   "language": "python",
   "name": "python3"
  },
  "language_info": {
   "codemirror_mode": {
    "name": "ipython",
    "version": 3
   },
   "file_extension": ".py",
   "mimetype": "text/x-python",
   "name": "python",
   "nbconvert_exporter": "python",
   "pygments_lexer": "ipython3",
   "version": "3.9.12"
  }
 },
 "nbformat": 4,
 "nbformat_minor": 5
}
